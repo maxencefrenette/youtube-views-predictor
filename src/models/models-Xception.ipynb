{
 "cells": [
  {
   "cell_type": "markdown",
   "id": "35e24794-0857-411c-9d0c-d0f6195b18a7",
   "metadata": {},
   "source": [
    "# Models\n",
    "\n",
    "\n",
    "### Import libraries"
   ]
  },
  {
   "cell_type": "code",
   "execution_count": 4,
   "id": "9200dca6-00c7-4b1c-92a9-740e33012467",
   "metadata": {},
   "outputs": [],
   "source": [
    "import numpy as np\n",
    "import pandas as pd\n",
    "import matplotlib.pyplot as plt\n",
    "import os\n",
    "import sys\n",
    "sys.path.append('../data')\n",
    "from process_data import process_data\n",
    "from Xception import Xception_labels\n",
    "import warnings\n",
    "warnings.filterwarnings('ignore')\n",
    "import seaborn as sns\n",
    "from sklearn.linear_model import LogisticRegression\n",
    "from sklearn.ensemble import GradientBoostingClassifier\n",
    "from sklearn.metrics import confusion_matrix, classification_report\n",
    "from sklearn.ensemble import RandomForestClassifier\n"
   ]
  },
  {
   "cell_type": "code",
   "execution_count": 84,
   "id": "3a39c5d8-3407-4d3b-ae9d-d5eb5d907307",
   "metadata": {},
   "outputs": [],
   "source": [
    "import nltk\n",
    "from nltk.corpus import wordnet\n",
    "\n",
    "def categorize_words(words):\n",
    "    categories = ['person', 'vehicle', 'object', 'animal', 'sport', 'food', 'furniture', 'electronic', 'appliance', 'other']\n",
    "    word_categories = {}\n",
    "    for word in words:\n",
    "        synsets = wordnet.synsets(word)\n",
    "        if len(synsets) == 0:\n",
    "            word_categories[word] = 'other'\n",
    "        else:\n",
    "            # Get the first synset\n",
    "            synset = synsets[0]\n",
    "            # Traverse the hypernym hierarchy to find a category\n",
    "            hypernyms = synset.hypernyms()\n",
    "            category_found = False\n",
    "            while hypernyms and not category_found:\n",
    "                hypernym = hypernyms[0]\n",
    "                hypernym_name = hypernym.name()\n",
    "                for category in categories:\n",
    "                    if category in hypernym_name:\n",
    "                        word_categories[word] = category\n",
    "                        category_found = True\n",
    "                        break\n",
    "                hypernyms = hypernym.hypernyms()\n",
    "            if not category_found:\n",
    "                word_categories[word] = 'other'\n",
    "    return word_categories"
   ]
  },
  {
   "cell_type": "code",
   "execution_count": 88,
   "id": "b61c8b79-aa10-4644-af90-7336d8278937",
   "metadata": {},
   "outputs": [],
   "source": [
    "#pull in thumbnail image classifications\n",
    "#!!!!WARNING - CPU INTENSIVE\n",
    "Xception_label_df = pd.read_csv('../data/Xception.csv',index_col=0)\n",
    "#'Xception_labels()'"
   ]
  },
  {
   "cell_type": "code",
   "execution_count": 89,
   "id": "fef6e8ac-ae20-440a-9918-7c92b082b5d3",
   "metadata": {},
   "outputs": [],
   "source": [
    "words = Xception_label_df['label_1'].astype(str).unique()\n",
    "word_categories = categorize_words(words)\n",
    "\n",
    "# create a dictionary that maps words to categories\n",
    "word_to_category = {word: category for word, category in word_categories.items()}\n",
    "\n",
    "# add a new column to Xception_label_df that maps label_1 values to categories\n",
    "Xception_label_df['label_1_category'] = Xception_label_df['label_1'].astype(str).map(word_to_category)"
   ]
  },
  {
   "cell_type": "code",
   "execution_count": 90,
   "id": "4e342e4f-5189-4d5b-afa6-2ae389c42198",
   "metadata": {},
   "outputs": [],
   "source": [
    "words = Xception_label_df['label_2'].astype(str).unique()\n",
    "word_categories = categorize_words(words)\n",
    "\n",
    "# create a dictionary that maps words to categories\n",
    "word_to_category = {word: category for word, category in word_categories.items()}\n",
    "\n",
    "# add a new column to Xception_label_df that maps label_1 values to categories\n",
    "Xception_label_df['label_2_category'] = Xception_label_df['label_2'].astype(str).map(word_to_category)\n"
   ]
  },
  {
   "cell_type": "code",
   "execution_count": 91,
   "id": "cb16667b-f030-4dbd-bf45-2cfc8c1d76f7",
   "metadata": {},
   "outputs": [],
   "source": [
    "words = Xception_label_df['label_3'].astype(str).unique()\n",
    "word_categories = categorize_words(words)\n",
    "\n",
    "# create a dictionary that maps words to categories\n",
    "word_to_category = {word: category for word, category in word_categories.items()}\n",
    "\n",
    "# add a new column to Xception_label_df that maps label_1 values to categories\n",
    "Xception_label_df['label_3_category'] = Xception_label_df['label_3'].astype(str).map(word_to_category)"
   ]
  },
  {
   "cell_type": "code",
   "execution_count": 92,
   "id": "988c0ff3-5fef-4f4d-9928-1f3a713760a8",
   "metadata": {},
   "outputs": [],
   "source": [
    "#pull in train and test datasets\n",
    "X_train, y_train,X_test,y_test = process_data(buckets = 10)\n",
    "\n",
    "#merge labels into test and train data set\n",
    "X_train = X_train.merge(Xception_label_df, on='video_id')\n",
    "X_test = X_test.merge(Xception_label_df, on='video_id')\n",
    "\n",
    "# Combine X_train and X_test into one DataFrame\n",
    "combined_df = pd.concat([X_train, X_test], axis=0).reset_index(drop=True)\n",
    "\n",
    "#remove this line to include video stats\n",
    "#combined_df = combined_df[['label_1','label_2','label_3']]\n",
    "\n",
    "# One-hot encode the label columns\n",
    "label_dummies = pd.get_dummies(combined_df[['label_1_category']], prefix='', prefix_sep='')\n",
    "\n",
    "X_train = pd.concat([combined_df.drop(['label_1_category'], axis=1)[:len(X_train)], label_dummies[:len(X_train)]], axis=1)\n",
    "X_test = pd.concat([combined_df.drop(['label_1_category'], axis=1)[len(X_train):], label_dummies[len(X_train):]], axis=1)\n"
   ]
  },
  {
   "cell_type": "markdown",
   "id": "7e28fdbd-6846-4687-b11f-dc8a5f8af2e3",
   "metadata": {},
   "source": [
    "### Baseline Model\n",
    "\n",
    "Find the most common bucket and make that the (constant) prediction.\n"
   ]
  },
  {
   "cell_type": "code",
   "execution_count": 93,
   "id": "0bd96253-99e9-455a-908f-cbb3dc3fad85",
   "metadata": {},
   "outputs": [],
   "source": [
    "most_common_bucket = y_train.iloc[:,0].value_counts().sort_values(ascending =False).index[0]"
   ]
  },
  {
   "cell_type": "code",
   "execution_count": 94,
   "id": "4d47cac5-165e-4dc0-97fc-ab9621239c74",
   "metadata": {},
   "outputs": [],
   "source": [
    "most_common_bucket_array = np.full(len(y_test),most_common_bucket)"
   ]
  },
  {
   "cell_type": "code",
   "execution_count": 95,
   "id": "46fe6791-f226-44e4-a4e8-8c7461e7ca9f",
   "metadata": {},
   "outputs": [
    {
     "name": "stdout",
     "output_type": "stream",
     "text": [
      "Classification Report:\n",
      "               precision    recall  f1-score   support\n",
      "\n",
      "           0       0.00      0.00      0.00        51\n",
      "          10       0.00      0.00      0.00        44\n",
      "          20       0.00      0.00      0.00        58\n",
      "          30       0.07      1.00      0.13        32\n",
      "          40       0.00      0.00      0.00        54\n",
      "          50       0.00      0.00      0.00        35\n",
      "          60       0.00      0.00      0.00        40\n",
      "          70       0.00      0.00      0.00        57\n",
      "          80       0.00      0.00      0.00        44\n",
      "          90       0.00      0.00      0.00        50\n",
      "\n",
      "    accuracy                           0.07       465\n",
      "   macro avg       0.01      0.10      0.01       465\n",
      "weighted avg       0.00      0.07      0.01       465\n",
      "\n",
      "Confusion Matrix:\n",
      "\n"
     ]
    },
    {
     "data": {
      "image/png": "[encoded data removed]",
      "text/plain": [
       "<Figure size 432x288 with 2 Axes>"
      ]
     },
     "metadata": {
      "needs_background": "light"
     },
     "output_type": "display_data"
    }
   ],
   "source": [
    "cm = confusion_matrix(y_test, most_common_bucket_array)\n",
    "cr = classification_report(y_test, most_common_bucket_array)\n",
    "\n",
    "print(\"Classification Report:\\n\", cr)\n",
    "\n",
    "print(\"Confusion Matrix:\\n\")\n",
    "# Plot confusion matrix with axis labels\n",
    "ax = sns.heatmap(cm, annot=True, cmap='Blues', fmt='g')\n",
    "ax.invert_yaxis()\n",
    "plt.xlabel('Predicted Labels')\n",
    "plt.ylabel('True Labels')\n",
    "plt.show()\n"
   ]
  },
  {
   "cell_type": "markdown",
   "id": "b9530a28-9284-4c7e-98e6-5ff9a85d12ee",
   "metadata": {},
   "source": [
    "### Model: Logistic Regression"
   ]
  },
  {
   "cell_type": "code",
   "execution_count": 96,
   "id": "b50e48bf-63ac-4188-a99d-c23ef92f6ab3",
   "metadata": {},
   "outputs": [],
   "source": [
    "X_train = X_train.drop(columns=X_train.select_dtypes(include=['object','datetime64[ns, UTC]']).columns)\n",
    "X_test = X_test.drop(columns=X_test.select_dtypes(include=['object','datetime64[ns, UTC]']).columns)"
   ]
  },
  {
   "cell_type": "code",
   "execution_count": 97,
   "id": "77b97776-a445-4eb8-ab0d-3eae857031b6",
   "metadata": {},
   "outputs": [
    {
     "data": {
      "text/plain": [
       "2316    60\n",
       "406     30\n",
       "645     70\n",
       "1206    90\n",
       "592     70\n",
       "        ..\n",
       "1095    10\n",
       "1462    30\n",
       "2197    30\n",
       "1039     0\n",
       "1147    30\n",
       "Name: views_category_10, Length: 1859, dtype: category\n",
       "Categories (10, int64): [0 < 10 < 20 < 30 ... 60 < 70 < 80 < 90]"
      ]
     },
     "execution_count": 97,
     "metadata": {},
     "output_type": "execute_result"
    }
   ],
   "source": [
    "y_train['views_category_10']"
   ]
  },
  {
   "cell_type": "code",
   "execution_count": 98,
   "id": "270f6434-118f-4a48-bf25-6b8d9d84da4e",
   "metadata": {},
   "outputs": [
    {
     "name": "stdout",
     "output_type": "stream",
     "text": [
      "Classification Report:\n",
      "               precision    recall  f1-score   support\n",
      "\n",
      "           0       0.50      0.02      0.04        51\n",
      "          10       0.00      0.00      0.00        44\n",
      "          20       0.12      0.02      0.03        58\n",
      "          30       0.07      0.19      0.11        32\n",
      "          40       0.00      0.00      0.00        54\n",
      "          50       0.05      0.14      0.08        35\n",
      "          60       0.14      0.17      0.16        40\n",
      "          70       0.06      0.04      0.04        57\n",
      "          80       0.22      0.05      0.08        44\n",
      "          90       0.14      0.50      0.21        50\n",
      "\n",
      "    accuracy                           0.11       465\n",
      "   macro avg       0.13      0.11      0.07       465\n",
      "weighted avg       0.13      0.11      0.07       465\n",
      "\n",
      "Confusion Matrix:\n",
      "\n"
     ]
    },
    {
     "data": {
      "image/png": "[encoded data removed]",
      "text/plain": [
       "<Figure size 432x288 with 2 Axes>"
      ]
     },
     "metadata": {
      "needs_background": "light"
     },
     "output_type": "display_data"
    }
   ],
   "source": [
    "# Instantiate the model with default hyperparameters\n",
    "logreg = LogisticRegression(multi_class='multinomial', solver='lbfgs')\n",
    "\n",
    "# Train the model on the training data\n",
    "logreg.fit(X_train, y_train['views_category_10'])\n",
    "\n",
    "# Make predictions on the test data\n",
    "y_pred = logreg.predict(X_test)\n",
    "\n",
    "\n",
    "cm = confusion_matrix(y_test, y_pred)\n",
    "cr = classification_report(y_test, y_pred)\n",
    "\n",
    "print(\"Classification Report:\\n\", cr)\n",
    "\n",
    "print(\"Confusion Matrix:\\n\")\n",
    "ax = sns.heatmap(cm, annot=True, cmap='Blues', fmt='g')\n",
    "ax.invert_yaxis()\n",
    "plt.xlabel('Predicted Labels')\n",
    "plt.ylabel('True Labels')\n",
    "plt.show()\n",
    "\n"
   ]
  },
  {
   "cell_type": "markdown",
   "id": "c7623602-a883-4308-b1e6-103258165c0d",
   "metadata": {},
   "source": [
    "### Model: Gradient Boosted Decision Trees\n"
   ]
  },
  {
   "cell_type": "code",
   "execution_count": 99,
   "id": "5994e02f-e2aa-47b5-b6e7-ee84950095ec",
   "metadata": {},
   "outputs": [
    {
     "name": "stdout",
     "output_type": "stream",
     "text": [
      "Classification Report:\n",
      "               precision    recall  f1-score   support\n",
      "\n",
      "           0       0.70      0.73      0.71        51\n",
      "          10       0.27      0.41      0.32        44\n",
      "          20       0.16      0.09      0.11        58\n",
      "          30       0.23      0.34      0.28        32\n",
      "          40       0.36      0.22      0.28        54\n",
      "          50       0.17      0.26      0.20        35\n",
      "          60       0.19      0.20      0.19        40\n",
      "          70       0.38      0.25      0.30        57\n",
      "          80       0.47      0.59      0.53        44\n",
      "          90       0.69      0.62      0.65        50\n",
      "\n",
      "    accuracy                           0.37       465\n",
      "   macro avg       0.36      0.37      0.36       465\n",
      "weighted avg       0.37      0.37      0.36       465\n",
      "\n",
      "Confusion Matrix:\n",
      "\n"
     ]
    },
    {
     "data": {
      "image/png": "[encoded data removed]",
      "text/plain": [
       "<Figure size 432x288 with 2 Axes>"
      ]
     },
     "metadata": {
      "needs_background": "light"
     },
     "output_type": "display_data"
    }
   ],
   "source": [
    "\n",
    "\n",
    "# Instantiate the model with default hyperparameters\n",
    "gbc = GradientBoostingClassifier()\n",
    "\n",
    "# Train the model on the training data\n",
    "gbc.fit(X_train, y_train['views_category_10'])\n",
    "\n",
    "# Make predictions on the test data\n",
    "y_pred = gbc.predict(X_test)\n",
    "\n",
    "cm = confusion_matrix(y_test, y_pred)\n",
    "cr = classification_report(y_test, y_pred)\n",
    "\n",
    "print(\"Classification Report:\\n\", cr)\n",
    "\n",
    "print(\"Confusion Matrix:\\n\")\n",
    "ax = sns.heatmap(cm, annot=True, cmap='Blues', fmt='g')\n",
    "ax.invert_yaxis()\n",
    "plt.xlabel('Predicted Labels')\n",
    "plt.ylabel('True Labels')\n",
    "plt.show()"
   ]
  },
  {
   "cell_type": "markdown",
   "id": "ba23c277-d7c9-4e6c-9fdf-e70a266ebb0b",
   "metadata": {},
   "source": [
    "### Model: Random Forest\n",
    "This model was optimized using TPOT, an AutoML library."
   ]
  },
  {
   "cell_type": "code",
   "execution_count": 101,
   "id": "d75c50a0-57af-483c-be7d-c434208b4233",
   "metadata": {},
   "outputs": [
    {
     "name": "stdout",
     "output_type": "stream",
     "text": [
      "Classification Report:\n",
      "               precision    recall  f1-score   support\n",
      "\n",
      "           0       0.61      0.67      0.64        51\n",
      "          10       0.27      0.41      0.32        44\n",
      "          20       0.23      0.16      0.18        58\n",
      "          30       0.19      0.25      0.21        32\n",
      "          40       0.36      0.24      0.29        54\n",
      "          50       0.19      0.29      0.23        35\n",
      "          60       0.17      0.15      0.16        40\n",
      "          70       0.35      0.21      0.26        57\n",
      "          80       0.46      0.61      0.52        44\n",
      "          90       0.76      0.64      0.70        50\n",
      "\n",
      "    accuracy                           0.36       465\n",
      "   macro avg       0.36      0.36      0.35       465\n",
      "weighted avg       0.37      0.36      0.36       465\n",
      "\n",
      "Confusion Matrix:\n",
      "\n"
     ]
    },
    {
     "data": {
      "image/png": "[encoded data removed]",
      "text/plain": [
       "<Figure size 432x288 with 2 Axes>"
      ]
     },
     "metadata": {
      "needs_background": "light"
     },
     "output_type": "display_data"
    }
   ],
   "source": [
    "\n",
    "# Instantiate the model with default hyperparameters\n",
    "rfc = RandomForestClassifier()\n",
    "\n",
    "# Train the model on the training data\n",
    "rfc.fit(X_train, y_train['views_category_10'])\n",
    "\n",
    "# Make predictions on the test data\n",
    "y_pred = rfc.predict(X_test)\n",
    "\n",
    "cm = confusion_matrix(y_test, y_pred)\n",
    "cr = classification_report(y_test, y_pred)\n",
    "\n",
    "print(\"Classification Report:\\n\", cr)\n",
    "\n",
    "print(\"Confusion Matrix:\\n\")\n",
    "ax = sns.heatmap(cm, annot=True, cmap='Blues', fmt='g')\n",
    "ax.invert_yaxis()\n",
    "plt.xlabel('Predicted Labels')\n",
    "plt.ylabel('True Labels')\n",
    "plt.show()"
   ]
  }
 ],
 "metadata": {
  "kernelspec": {
   "display_name": "Python 3",
   "language": "python",
   "name": "python3"
  },
  "language_info": {
   "codemirror_mode": {
    "name": "ipython",
    "version": 3
   },
   "file_extension": ".py",
   "mimetype": "text/x-python",
   "name": "python",
   "nbconvert_exporter": "python",
   "pygments_lexer": "ipython3",
   "version": "3.8.8"
  }
 },
 "nbformat": 4,
 "nbformat_minor": 5
}
