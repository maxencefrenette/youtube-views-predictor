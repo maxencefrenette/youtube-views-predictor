{
 "cells": [
  {
   "cell_type": "markdown",
   "id": "80a93a5c",
   "metadata": {},
   "source": [
    "# Models\n",
    "\n",
    "\n",
    "### Import libraries"
   ]
  },
  {
   "cell_type": "markdown",
   "id": "681bbd9f",
   "metadata": {},
   "source": [
    "### Model: Neural Net"
   ]
  },
  {
   "cell_type": "code",
   "execution_count": 12,
   "id": "c2e158de-7319-4c77-bc4b-b3b5ced0be29",
   "metadata": {},
   "outputs": [],
   "source": [
    "import numpy as np\n",
    "import pandas as pd\n",
    "import matplotlib.pyplot as plt\n",
    "import os\n",
    "import sys\n",
    "sys.path.append('../data')\n",
    "from process_data import process_data\n",
    "import tensorflow as tf\n",
    "from keras import backend as K\n",
    "from tensorflow.keras.layers import Conv2D, MaxPooling2D, Flatten, Dense, Input, concatenate\n",
    "from tensorflow.keras.preprocessing.image import ImageDataGenerator, array_to_img, img_to_array, load_img\n",
    "from sklearn.preprocessing import LabelEncoder\n",
    "from tensorflow import keras\n",
    "#turn off warnings\n",
    "import warnings\n",
    "warnings.filterwarnings('ignore')\n",
    "IMAGE_PATH = '../data/Youtube Thumbnails/' # replace with your path\n",
    "\n"
   ]
  },
  {
   "cell_type": "code",
   "execution_count": 13,
   "id": "de51a207-0a76-4d84-9536-e89290e09f9f",
   "metadata": {},
   "outputs": [],
   "source": [
    "X_train, y_train,X_test,y_test = process_data(buckets = 10)"
   ]
  },
  {
   "cell_type": "code",
   "execution_count": 14,
   "id": "affefa34-1b36-4c70-b237-e09a67e5dbc2",
   "metadata": {},
   "outputs": [],
   "source": [
    "def preprocess_data(IMAGE_PATH):\n",
    "    \"\"\" Generate lists of images and video ids\n",
    "    Params:\n",
    "    -------\n",
    "    IMAGE_PATH (str): path to directory with images.\n",
    "    \n",
    "    Returns:\n",
    "    --------\n",
    "    images  (np.ndarray): Images of shape (N, 120, 90, 3)\n",
    "    \"\"\"\n",
    "    images = []\n",
    "    video_ids = []\n",
    "\n",
    "    # create lists of images `images_mini` \n",
    "    for idx, img in enumerate(os.listdir(IMAGE_PATH)):\n",
    "        # read video ID from path\n",
    "        video_id = img.split('/')[0]\n",
    "        video_id = video_id.split('.')[0]\n",
    "        \n",
    "        # read image\n",
    "        img = load_img(\n",
    "            IMAGE_PATH + img\n",
    "        )\n",
    "        img = img.resize((320,180))\n",
    "        # transform image to array\n",
    "        img = img_to_array(img)\n",
    "\n",
    "        #pre process\n",
    "        img = img / 255\n",
    "        \n",
    "        # append to images\n",
    "        images.append(img)\n",
    "        \n",
    "        video_ids.append(video_id)\n",
    "\n",
    "    # stack images and trasnform to array\n",
    "    images = np.stack(images)\n",
    "    \n",
    "    return images, video_ids"
   ]
  },
  {
   "cell_type": "code",
   "execution_count": 15,
   "id": "91cb47eb-3019-4d19-bf75-9c244c35cf84",
   "metadata": {},
   "outputs": [],
   "source": [
    "images = preprocess_data(IMAGE_PATH)"
   ]
  },
  {
   "cell_type": "code",
   "execution_count": 16,
   "id": "02398f03-1152-4b32-a3bd-a539bc00c678",
   "metadata": {},
   "outputs": [
    {
     "data": {
      "text/plain": [
       "(2324, 180, 320, 3)"
      ]
     },
     "execution_count": 16,
     "metadata": {},
     "output_type": "execute_result"
    }
   ],
   "source": [
    "images[0].shape"
   ]
  },
  {
   "cell_type": "code",
   "execution_count": 17,
   "id": "de7d05c7-d4f8-464e-8b48-a9133abae358",
   "metadata": {},
   "outputs": [
    {
     "name": "stdout",
     "output_type": "stream",
     "text": [
      "Train tuple: 1859\n",
      "Test tuple: 465\n"
     ]
    }
   ],
   "source": [
    "train_tuple = ([], []) # tuple for train set\n",
    "test_tuple = ([], []) # tuple for test set\n",
    "\n",
    "for i in range(len(images[1])):\n",
    "    if images[1][i] in X_train['video_id'].to_list():\n",
    "        train_tuple[0].append(images[0][i])\n",
    "        train_tuple[1].append(images[1][i])\n",
    "    else:\n",
    "        test_tuple[0].append(images[0][i])\n",
    "        test_tuple[1].append(images[1][i])\n",
    "\n",
    "print(\"Train tuple:\", len(train_tuple[0]))\n",
    "print(\"Test tuple:\", len(test_tuple[0]))"
   ]
  },
  {
   "cell_type": "code",
   "execution_count": 18,
   "id": "7809a415-01ef-4a2c-9270-e971e6d95a36",
   "metadata": {},
   "outputs": [],
   "source": [
    "X_train = np.array(train_tuple[0])\n",
    "X_test = np.array(test_tuple[0])\n"
   ]
  },
  {
   "cell_type": "code",
   "execution_count": 19,
   "id": "5541e15e-ca6b-44f1-bfb2-e5090d4ea3cf",
   "metadata": {},
   "outputs": [],
   "source": [
    "encoder = LabelEncoder()\n",
    "encoder.fit(pd.concat([y_train['views_category_10'], y_test['views_category_10']]))\n",
    "\n",
    "Y_train_cat = encoder.transform(y_train['views_category_10'])\n",
    "Y_test_cat = encoder.transform(y_test['views_category_10'])"
   ]
  },
  {
   "cell_type": "code",
   "execution_count": 20,
   "id": "2a17a56a-2f27-4555-aa06-be559c0c7e27",
   "metadata": {},
   "outputs": [],
   "source": [
    "def build_model(n_classes,\n",
    "                hidden_layer_sizes=[],\n",
    "                activation='relu',\n",
    "                optimizer='SGD',\n",
    "                learning_rate=0.01):\n",
    "  \"\"\"Build a multi-class logistic regression model using Keras.\n",
    "\n",
    "  Args:\n",
    "    n_classes: Number of output classes in the dataset.\n",
    "    hidden_layer_sizes: A list with the number of units in each hidden layer.\n",
    "    activation: The activation function to use for the hidden layers.\n",
    "    optimizer: The optimizer to use (SGD, Adam).\n",
    "    learning_rate: The desired learning rate for the optimizer.\n",
    "\n",
    "  Returns:\n",
    "    model: A tf.keras model (graph).\n",
    "  \"\"\"\n",
    "  tf.keras.backend.clear_session()\n",
    "  np.random.seed(0)\n",
    "  tf.random.set_seed(0)\n",
    "\n",
    "  \n",
    "  model = tf.keras.Sequential()\n",
    "  model.add(keras.layers.Flatten())\n",
    "  i=0\n",
    "  for hidden_layer_size in hidden_layer_sizes:\n",
    "    i = i+1\n",
    "    model.add(tf.keras.layers.Dense(units=hidden_layer_size,\n",
    "                                    activation=activation,\n",
    "                                    name=\"Hidden\"+str(i)))\n",
    "  model.add(tf.keras.layers.Dense(units=n_classes, activation='softmax', name='Output'))\n",
    "  \n",
    "  if optimizer == 'SGD':\n",
    "    optimizer = tf.keras.optimizers.SGD(learning_rate=learning_rate)\n",
    "  elif optimizer == 'Adam':\n",
    "    optimizer = tf.keras.optimizers.Adam(learning_rate=learning_rate)\n",
    "  else:\n",
    "    print(\"error: invalid optimizer\")\n",
    "\n",
    "  model.compile(loss='sparse_categorical_crossentropy',\n",
    "                optimizer=optimizer,\n",
    "                metrics=['accuracy'])\n",
    "\n",
    "  return model"
   ]
  },
  {
   "cell_type": "code",
   "execution_count": 21,
   "id": "39f76c15-5969-4add-9796-3f8a896e1159",
   "metadata": {},
   "outputs": [],
   "source": [
    "def train_and_evaluate(hidden_layer_sizes=[256,128],\n",
    "                       activation='relu',\n",
    "                       optimizer='Adam',\n",
    "                       learning_rate=0.01,\n",
    "                       num_epochs=5):\n",
    "\n",
    "  # Build the model.\n",
    "  model = build_model(n_classes=10,\n",
    "                      hidden_layer_sizes=hidden_layer_sizes,\n",
    "                      activation=activation,\n",
    "                      optimizer=optimizer,\n",
    "                      learning_rate=learning_rate)\n",
    "    \n",
    "\n",
    "  # Train the model.\n",
    "  print('Training...')\n",
    "  history = model.fit(\n",
    "    x=X_train,\n",
    "    y=Y_train_cat,\n",
    "    epochs=num_epochs,\n",
    "    batch_size=64,\n",
    "    validation_split=0.1,\n",
    "    verbose=0)\n",
    "\n",
    "  print(model.summary())\n",
    "\n",
    "  # Retrieve the training metrics (after each train epoch) and the final test\n",
    "  # accuracy.\n",
    "  train_accuracy = history.history['accuracy']\n",
    "  val_accuracy = history.history['val_accuracy']\n",
    "  plt.plot(train_accuracy, label='train_accuracy')\n",
    "  plt.plot(val_accuracy, label='validation accuracy')\n",
    "  plt.xticks(range(num_epochs))\n",
    "  plt.xlabel('Train epochs')\n",
    "  plt.legend()\n",
    "  plt.show()\n",
    "\n",
    "  test_accuracy = model.evaluate(x=X_test, y=Y_test_cat, verbose=0,\n",
    "                                 return_dict=True)['accuracy']\n",
    "  predict_x=model.predict(X_test) \n",
    "  classes_x=np.argmax(predict_x,axis=1)\n",
    "  return test_accuracy\n",
    "\n"
   ]
  },
  {
   "cell_type": "code",
   "execution_count": 22,
   "id": "2ccd1a68-c129-49b1-b968-09b0802a632f",
   "metadata": {},
   "outputs": [
    {
     "name": "stdout",
     "output_type": "stream",
     "text": [
      "Training...\n",
      "Model: \"sequential\"\n",
      "_________________________________________________________________\n",
      " Layer (type)                Output Shape              Param #   \n",
      "=================================================================\n",
      " flatten (Flatten)           (None, 172800)            0         \n",
      "                                                                 \n",
      " Hidden1 (Dense)             (None, 256)               44237056  \n",
      "                                                                 \n",
      " Hidden2 (Dense)             (None, 128)               32896     \n",
      "                                                                 \n",
      " Output (Dense)              (None, 10)                1290      \n",
      "                                                                 \n",
      "=================================================================\n",
      "Total params: 44,271,242\n",
      "Trainable params: 44,271,242\n",
      "Non-trainable params: 0\n",
      "_________________________________________________________________\n",
      "None\n"
     ]
    },
    {
     "data": {
      "image/png": "[encoded data removed]",
      "text/plain": [
       "<Figure size 432x288 with 1 Axes>"
      ]
     },
     "metadata": {
      "needs_background": "light"
     },
     "output_type": "display_data"
    },
    {
     "name": "stdout",
     "output_type": "stream",
     "text": [
      "15/15 [==============================] - 1s 28ms/step\n",
      "Test Accuracy: 0.1269\n"
     ]
    }
   ],
   "source": [
    "print('Test Accuracy: %1.4f' %train_and_evaluate(activation='tanh',learning_rate = .0005,optimizer='SGD',num_epochs=5,hidden_layer_sizes=[256,128]))"
   ]
  },
  {
   "cell_type": "markdown",
   "id": "d0a7650a-0ae5-4f55-b4bc-ef51d1189c07",
   "metadata": {},
   "source": [
    "\n",
    "DATA | HIDDEN SIZES | ACTIVATION | OPTIMIZER | LEARNING RATE | EPOCHS | #PARAMETERS | TEST ACCURACY\n",
    "-|-|-|-|-|-|-|-\n",
    "thumbnails|[256,128]|tanh|SGD|0.005|10|44,271,242| 0.1097\n",
    "thumbnails|[256,128]|tanh|SGD|0.02|10|44,271,242| 0.0882\n",
    "thumbnails|[512,256,128]|tanh|SGD|0.01|10|88,639,626| 0.1097\n",
    "thumbnails|[256,256,256,128]|tanh|SGD|0.01|10|44,402,826| 0.1097\n",
    "thumbnails|[256,128]|tanh|SGD|0.01|10| 44,271,242| 0.0968\n",
    "thumbnails|[256,128]|tanh|SGD|0.01|5|44,271,242|0.107\n",
    "thumbnails|[256,128]|tanh|Adam|0.01|5|44,271,242| 0.086\n",
    "thumbnails|[256,128]|relu|Adam|0.01|5|44,271,242| 0.068\n"
   ]
  },
  {
   "cell_type": "code",
   "execution_count": 70,
   "id": "22ad7148",
   "metadata": {},
   "outputs": [],
   "source": [
    "IMAGE_SIZE = (320, 180)\n",
    "CONTRAST_FACTOR = 3\n",
    "DELTA = 0.3\n",
    "\n",
    "def preprocess_data_part2(X_train, y_train, X_test, y_test):\n",
    "    \"\"\" \n",
    "    \n",
    "    Params:\n",
    "    -------\n",
    "    images  (np.ndarray): Images of shape (N, 320, 180, 3)\n",
    "    y (np.ndarray): Labels of shape (N,)   \n",
    "    \n",
    "    Returns:\n",
    "    --------\n",
    "    X_train (np.ndarray): Train images of shape (N_train, 320, 180, 3)\n",
    "    y_train (np.ndarray): Train labels of shape (N_train,)\n",
    "    X_test (np.ndarray): Test images of shape (N_test, 320, 180, 3)\n",
    "    y_test (np.ndarray): Test labels of shape (N_test,)\n",
    "    \n",
    "    \"\"\"\n",
    "    \n",
    "    ### image transformation on training, validation, and test data ###\n",
    "    ###################################################################\n",
    "    # image resize\n",
    "    X_train = tf.image.resize(X_train, size=IMAGE_SIZE)\n",
    "    X_test = tf.image.resize(X_test, size=IMAGE_SIZE)\n",
    "    \n",
    "    ### image augmentation on training data ###\n",
    "    ###########################################\n",
    "    # adjust brightness\n",
    "    X_train_augm = tf.image.adjust_brightness(X_train, delta=DELTA)\n",
    "    \n",
    "    # adjust contrast\n",
    "    X_train_augm = tf.image.adjust_contrast(X_train_augm, contrast_factor=CONTRAST_FACTOR)\n",
    "\n",
    "    # random flip\n",
    "    X_train_augm = tf.image.random_flip_left_right(X_train_augm)\n",
    "    \n",
    "    # concatenate original X_train and augmented X_train data\n",
    "    X_train = tf.concat([X_train, X_train_augm],axis=0)\n",
    "    \n",
    "    # concatenate y_train (note the label is preserved)\n",
    "    y_train_augm = y_train\n",
    "    y_train = tf.concat([y_train, y_train_augm],axis=0)\n",
    "    \n",
    "    \n",
    "    return X_train, y_train, X_test, y_test"
   ]
  },
  {
   "cell_type": "code",
   "execution_count": 71,
   "id": "cd6f1f85",
   "metadata": {},
   "outputs": [
    {
     "name": "stdout",
     "output_type": "stream",
     "text": [
      "X_train shape (1859, 180, 320, 3)\n",
      "Y_train shape (1859,)\n",
      "X_test shape (465, 180, 320, 3)\n",
      "y_test shape (465,)\n"
     ]
    }
   ],
   "source": [
    "\n",
    "print(f\"X_train shape {X_train.shape}\")\n",
    "print(f\"Y_train shape {Y_train_cat.shape}\")\n",
    "print(f\"X_test shape {X_test.shape}\")\n",
    "print(f\"y_test shape {Y_test_cat.shape}\")"
   ]
  },
  {
   "cell_type": "code",
   "execution_count": 72,
   "id": "55a58e8f",
   "metadata": {},
   "outputs": [],
   "source": [
    "X_train_aug, Y_train_cat_aug, X_test_aug, Y_test_cat_aug = preprocess_data_part2(X_train, Y_train_cat, X_test, Y_test_cat)"
   ]
  },
  {
   "cell_type": "code",
   "execution_count": 73,
   "id": "0032cfae",
   "metadata": {},
   "outputs": [
    {
     "name": "stdout",
     "output_type": "stream",
     "text": [
      "X_train shape (3718, 320, 180, 3)\n",
      "Y_train shape (3718,)\n",
      "X_test shape (465, 320, 180, 3)\n",
      "y_test shape (465,)\n"
     ]
    }
   ],
   "source": [
    "\n",
    "print(f\"X_train shape {X_train_aug.shape}\")\n",
    "print(f\"Y_train shape {Y_train_cat_aug.shape}\")\n",
    "print(f\"X_test shape {X_test_aug.shape}\")\n",
    "print(f\"y_test shape {Y_test_cat_aug.shape}\")"
   ]
  },
  {
   "cell_type": "markdown",
   "id": "bc8f05b1",
   "metadata": {},
   "source": [
    "<u>The architecture of our CNN model is as follows</u>:\n",
    "\n",
    "1. the model receives input images of size 320 x 180 x 3 (the images have three color channels)\n",
    "2. the input data goes through two convolutional layers that have kernels of size 5 x 5\n",
    "3. the first convolution has 32 output feature maps, and the second one has 64\n",
    "4. each convolution layer is followed by a max-pooling layer (this will reduce the size of the feature maps)\n",
    "5. the last two layers of the model are fully connected with a droput layer in between\n",
    "\n",
    "For each convolution we use strides=(1,1) to preserve the dimension of the inputs in the resulting feature maps. For the pooling layers, we set strides=(2,2) to subsample the image and shrink the size of the output feature maps. For the dropout layer, we set the probability of dropping input units during training to 0.5.\n",
    "\n",
    "\n",
    "We will implement this architecture using TensorFlow Keras API."
   ]
  },
  {
   "cell_type": "code",
   "execution_count": 74,
   "id": "ea3cae5b",
   "metadata": {},
   "outputs": [
    {
     "name": "stdout",
     "output_type": "stream",
     "text": [
      "Model: \"sequential_9\"\n",
      "_________________________________________________________________\n",
      " Layer (type)                Output Shape              Param #   \n",
      "=================================================================\n",
      " conv_1 (Conv2D)             (None, 320, 180, 16)      448       \n",
      "                                                                 \n",
      " pool_1 (MaxPooling2D)       (None, 106, 60, 16)       0         \n",
      "                                                                 \n",
      " conv_2 (Conv2D)             (None, 106, 60, 32)       4640      \n",
      "                                                                 \n",
      " pool_2 (MaxPooling2D)       (None, 35, 20, 32)        0         \n",
      "                                                                 \n",
      " flatten_9 (Flatten)         (None, 22400)             0         \n",
      "                                                                 \n",
      " fc_1 (Dense)                (None, 1024)              22938624  \n",
      "                                                                 \n",
      " dropout_8 (Dropout)         (None, 1024)              0         \n",
      "                                                                 \n",
      " Output (Dense)              (None, 10)                10250     \n",
      "                                                                 \n",
      "=================================================================\n",
      "Total params: 22,953,962\n",
      "Trainable params: 22,953,962\n",
      "Non-trainable params: 0\n",
      "_________________________________________________________________\n"
     ]
    }
   ],
   "source": [
    "model = tf.keras.Sequential()\n",
    "\n",
    "# add first convolution layer to the model\n",
    "model.add(tf.keras.layers.Conv2D(\n",
    "    filters=16,\n",
    "    kernel_size=(3, 3),\n",
    "    strides=(1, 1),\n",
    "    padding='same',\n",
    "    data_format='channels_last',\n",
    "    name='conv_1',\n",
    "    activation='relu'))\n",
    "\n",
    "\n",
    "# add a max pooling layer with pool size (2,2) and strides of 2\n",
    "# (this will reduce the spatial dimensions by half)\n",
    "model.add(tf.keras.layers.MaxPool2D(\n",
    "    pool_size=(3, 3),\n",
    "    name='pool_1'))\n",
    "\n",
    "\n",
    "# add second convolutional layer\n",
    "model.add(tf.keras.layers.Conv2D(\n",
    "    filters=32,\n",
    "    kernel_size=(3, 3),\n",
    "    strides=(1, 1),\n",
    "    padding='same',\n",
    "    name='conv_2',\n",
    "    activation='relu'))\n",
    "\n",
    "# add second max pooling layer with pool size (2,2) and strides of 2\n",
    "# (this will further reduce the spatial dimensions by half)\n",
    "model.add(tf.keras.layers.MaxPool2D(\n",
    "    pool_size=(3, 3), name='pool_2')\n",
    ")\n",
    "\n",
    "\n",
    "# add a fully connected layer (need to flatten the output of the previous layers first)\n",
    "model.add(tf.keras.layers.Flatten()) \n",
    "model.add(tf.keras.layers.Dense(\n",
    "    units=1024,\n",
    "    name='fc_1', \n",
    "    activation='relu'))\n",
    "\n",
    "# add dropout layer\n",
    "model.add(tf.keras.layers.Dropout(\n",
    "    rate=0.5))\n",
    "\n",
    "# add the last fully connected layer\n",
    "# this last layer sets the activation function to \"None\" in order to output the logits \n",
    "# note that passing activation = \"sigmoid\" will return class memembership probabilities but\n",
    "# in TensorFlow logits are prefered for numerical stability\n",
    "# set units=1 to get a single output unit (remember it's a binary classification problem)\n",
    "model.add(tf.keras.layers.Dense(\n",
    "    units=10,\n",
    "    activation='softmax',\n",
    "    name='Output'))\n",
    "\n",
    "\n",
    "# build model and print summary\n",
    "tf.random.set_seed(1)\n",
    "model.build(input_shape=(None, 320, 180, 3))\n",
    "model.summary()\n"
   ]
  },
  {
   "cell_type": "code",
   "execution_count": 75,
   "id": "147a816a",
   "metadata": {},
   "outputs": [],
   "source": [
    "model.compile(optimizer=tf.keras.optimizers.SGD(),\n",
    "              loss='sparse_categorical_crossentropy', #set from_ligits=True because our last layer does not apply sigmoid\n",
    "              metrics=['accuracy']) "
   ]
  },
  {
   "cell_type": "code",
   "execution_count": 76,
   "id": "3e7b444f",
   "metadata": {},
   "outputs": [
    {
     "name": "stdout",
     "output_type": "stream",
     "text": [
      "Epoch 1/10\n",
      "117/117 [==============================] - 44s 366ms/step - loss: 2.3326 - accuracy: 0.1017 - val_loss: 2.3028 - val_accuracy: 0.0753\n",
      "Epoch 2/10\n",
      "117/117 [==============================] - 44s 376ms/step - loss: 2.2797 - accuracy: 0.1342 - val_loss: 2.3041 - val_accuracy: 0.1204\n",
      "Epoch 3/10\n",
      "117/117 [==============================] - 44s 376ms/step - loss: 2.2445 - accuracy: 0.1716 - val_loss: 2.3101 - val_accuracy: 0.0882\n",
      "Epoch 4/10\n",
      "117/117 [==============================] - 44s 376ms/step - loss: 2.1966 - accuracy: 0.2106 - val_loss: 2.3102 - val_accuracy: 0.0817\n",
      "Epoch 5/10\n",
      "117/117 [==============================] - 45s 381ms/step - loss: 2.1293 - accuracy: 0.2579 - val_loss: 2.3287 - val_accuracy: 0.0731\n",
      "Epoch 6/10\n",
      "117/117 [==============================] - 44s 378ms/step - loss: 2.0276 - accuracy: 0.3185 - val_loss: 2.3764 - val_accuracy: 0.0882\n",
      "Epoch 7/10\n",
      "117/117 [==============================] - 44s 379ms/step - loss: 1.8723 - accuracy: 0.3846 - val_loss: 2.4159 - val_accuracy: 0.0839\n",
      "Epoch 8/10\n",
      "117/117 [==============================] - 44s 379ms/step - loss: 1.6727 - accuracy: 0.4650 - val_loss: 2.4275 - val_accuracy: 0.1054\n",
      "Epoch 9/10\n",
      "117/117 [==============================] - 44s 378ms/step - loss: 1.4777 - accuracy: 0.5409 - val_loss: 2.7504 - val_accuracy: 0.0688\n",
      "Epoch 10/10\n",
      "117/117 [==============================] - 45s 385ms/step - loss: 1.2865 - accuracy: 0.6119 - val_loss: 2.5055 - val_accuracy: 0.1054\n"
     ]
    }
   ],
   "source": [
    "# set random seed to get reproductible results \n",
    "# neural network algorithms are stochastic (e.g., due to random weight initialization); setting a random seed helps to get more stable results after each run\n",
    "# however, best way to deal with randomness is to repeat your experiment many times (30+) and use statistics to summarize the performance of the model\n",
    "tf.random.set_seed(1234)\n",
    "np.random.seed(1234)\n",
    "history = model.fit(X_train_aug, Y_train_cat_aug,\n",
    "                    epochs=10, \n",
    "                    validation_data=(X_test_aug, Y_test_cat_aug)\n",
    ")"
   ]
  },
  {
   "cell_type": "markdown",
   "id": "9d2c4b2d",
   "metadata": {},
   "source": [
    "*Written answer*:\n",
    "\n",
    "| Training accuracy | Validation accuracy |  kernel size |  strides | pool size  |  learning rate | optimizer  | brightness (delta) |  contrast factor | flip_on_train  |\n",
    "|:-:                |:-:                  |:-:           |:-:       |:-:         |:-:             |:-:         |:-:                 |:-:               |:-:             |\n",
    "| 0.9618              | 0.0968                | 5,5          | 1,1      | 3,3        | 0.001          | Adam       | 0.3                | 3                | yes            |\n",
    "| 0.9680              | 0.1097                 | <font color=\"red\">3,3</font>     | 1,1      | 3,3        | 0.001          | Adam       | 0.3                | 3                | yes            |\n",
    "| 0.8886               | 0.0882                 | 3,3          | <font color=\"red\">2,2</font>  | 3,3        | 0.001          | Adam       | 0.3                | 3                | yes            |\n",
    "| 0.9648               | 0.0946                 | 3,3          | 1,1      | 3,3   | 0.001          | Adam       | <font color=\"red\">0.1</font>                | 3                | yes            |\n",
    "| 0.9683               | 0.0839                 | 3,3          | 1,1      | 2,2        | 0.001       | Adam       | 0.3                | <font color=\"red\">2</font>                | yes            |\n",
    "| 0.6119               | 0.1054                 | 3,3          | 1,1      | 2,2        | 0.001          |<font color=\"red\">SGD</font>     | 0.3                | 3                | yes            |\n"
   ]
  }
 ],
 "metadata": {
  "kernelspec": {
   "display_name": "Python 3",
   "language": "python",
   "name": "python3"
  },
  "language_info": {
   "codemirror_mode": {
    "name": "ipython",
    "version": 3
   },
   "file_extension": ".py",
   "mimetype": "text/x-python",
   "name": "python",
   "nbconvert_exporter": "python",
   "pygments_lexer": "ipython3",
   "version": "3.8.8"
  },
  "vscode": {
   "interpreter": {
    "hash": "c4f6a24194c21ef49ca8751a1660e4b9adfcf917651b692dc64a8cd26b72dbbb"
   }
  }
 },
 "nbformat": 4,
 "nbformat_minor": 5
}
