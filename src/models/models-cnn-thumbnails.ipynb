{
 "cells": [
  {
   "cell_type": "markdown",
   "id": "80a93a5c",
   "metadata": {},
   "source": [
    "# Models\n",
    "\n",
    "\n",
    "### Import libraries"
   ]
  },
  {
   "cell_type": "markdown",
   "id": "681bbd9f",
   "metadata": {},
   "source": [
    "### Model: Neural Net"
   ]
  },
  {
   "cell_type": "code",
   "execution_count": 24,
   "id": "c2e158de-7319-4c77-bc4b-b3b5ced0be29",
   "metadata": {},
   "outputs": [],
   "source": [
    "import numpy as np\n",
    "import pandas as pd\n",
    "import matplotlib.pyplot as plt\n",
    "import seaborn as sns\n",
    "import os\n",
    "import sys\n",
    "sys.path.append('../data')\n",
    "from process_data import process_data\n",
    "import tensorflow as tf\n",
    "from keras import backend as K\n",
    "from tensorflow.keras.layers import Conv2D, MaxPooling2D, Flatten, Dense, Input, concatenate\n",
    "from tensorflow.keras.preprocessing.image import ImageDataGenerator, array_to_img, img_to_array, load_img\n",
    "from sklearn.preprocessing import LabelEncoder\n",
    "from tensorflow import keras\n",
    "#turn off warnings\n",
    "import warnings\n",
    "warnings.filterwarnings('ignore')\n",
    "IMAGE_PATH = '../data/Youtube Thumbnails/' # replace with your path\n",
    "from sklearn.metrics import confusion_matrix, classification_report\n",
    "import random\n",
    "\n",
    "random.seed(77)\n"
   ]
  },
  {
   "cell_type": "code",
   "execution_count": 25,
   "id": "de51a207-0a76-4d84-9536-e89290e09f9f",
   "metadata": {},
   "outputs": [],
   "source": [
    "X_train, y_train,X_test,y_test = process_data(buckets = 10)"
   ]
  },
  {
   "cell_type": "code",
   "execution_count": 26,
   "id": "762c9a95",
   "metadata": {},
   "outputs": [
    {
     "data": {
      "image/png": "[encoded data removed]",
      "text/plain": [
       "<Figure size 432x288 with 1 Axes>"
      ]
     },
     "metadata": {
      "needs_background": "light"
     },
     "output_type": "display_data"
    }
   ],
   "source": [
    "y = np.concatenate([y_train, y_test])\n",
    "\n",
    "# Plot histogram\n",
    "plt.hist(y, bins=19)\n",
    "plt.title('Histogram of Views Category')\n",
    "plt.xlabel('Views Percentile Category')\n",
    "plt.ylabel('Frequency')\n",
    "plt.show()"
   ]
  },
  {
   "cell_type": "code",
   "execution_count": 27,
   "id": "6fc15c75",
   "metadata": {},
   "outputs": [
    {
     "data": {
      "text/html": [
       "<div>\n",
       "<style scoped>\n",
       "    .dataframe tbody tr th:only-of-type {\n",
       "        vertical-align: middle;\n",
       "    }\n",
       "\n",
       "    .dataframe tbody tr th {\n",
       "        vertical-align: top;\n",
       "    }\n",
       "\n",
       "    .dataframe thead th {\n",
       "        text-align: right;\n",
       "    }\n",
       "</style>\n",
       "<table border=\"1\" class=\"dataframe\">\n",
       "  <thead>\n",
       "    <tr style=\"text-align: right;\">\n",
       "      <th></th>\n",
       "      <th>num_tags</th>\n",
       "      <th>duration</th>\n",
       "      <th>days_published_channel</th>\n",
       "      <th>channel_videos</th>\n",
       "      <th>likes_to_views</th>\n",
       "      <th>comments_to_views</th>\n",
       "      <th>log_hours_published_video</th>\n",
       "      <th>log_channel_subscribers</th>\n",
       "    </tr>\n",
       "  </thead>\n",
       "  <tbody>\n",
       "    <tr>\n",
       "      <th>count</th>\n",
       "      <td>1859.000000</td>\n",
       "      <td>1859.000000</td>\n",
       "      <td>1859.000000</td>\n",
       "      <td>1859.000000</td>\n",
       "      <td>1859.000000</td>\n",
       "      <td>1859.000000</td>\n",
       "      <td>1859.000000</td>\n",
       "      <td>1859.000000</td>\n",
       "    </tr>\n",
       "    <tr>\n",
       "      <th>mean</th>\n",
       "      <td>16.434642</td>\n",
       "      <td>1124.550834</td>\n",
       "      <td>3214.200070</td>\n",
       "      <td>3563.700914</td>\n",
       "      <td>0.037356</td>\n",
       "      <td>0.003041</td>\n",
       "      <td>6.728960</td>\n",
       "      <td>13.678700</td>\n",
       "    </tr>\n",
       "    <tr>\n",
       "      <th>std</th>\n",
       "      <td>13.623786</td>\n",
       "      <td>1656.229609</td>\n",
       "      <td>1814.098620</td>\n",
       "      <td>14276.636270</td>\n",
       "      <td>0.034995</td>\n",
       "      <td>0.009492</td>\n",
       "      <td>2.630686</td>\n",
       "      <td>2.954320</td>\n",
       "    </tr>\n",
       "    <tr>\n",
       "      <th>min</th>\n",
       "      <td>0.000000</td>\n",
       "      <td>0.000000</td>\n",
       "      <td>9.119690</td>\n",
       "      <td>1.000000</td>\n",
       "      <td>0.000000</td>\n",
       "      <td>0.000000</td>\n",
       "      <td>-2.101761</td>\n",
       "      <td>0.000000</td>\n",
       "    </tr>\n",
       "    <tr>\n",
       "      <th>25%</th>\n",
       "      <td>3.000000</td>\n",
       "      <td>362.000000</td>\n",
       "      <td>1773.930041</td>\n",
       "      <td>139.000000</td>\n",
       "      <td>0.016139</td>\n",
       "      <td>0.000727</td>\n",
       "      <td>4.655396</td>\n",
       "      <td>12.676076</td>\n",
       "    </tr>\n",
       "    <tr>\n",
       "      <th>50%</th>\n",
       "      <td>16.000000</td>\n",
       "      <td>751.000000</td>\n",
       "      <td>3152.131708</td>\n",
       "      <td>408.000000</td>\n",
       "      <td>0.028725</td>\n",
       "      <td>0.001574</td>\n",
       "      <td>7.209058</td>\n",
       "      <td>14.159100</td>\n",
       "    </tr>\n",
       "    <tr>\n",
       "      <th>75%</th>\n",
       "      <td>27.000000</td>\n",
       "      <td>1334.000000</td>\n",
       "      <td>4413.965728</td>\n",
       "      <td>1310.000000</td>\n",
       "      <td>0.047177</td>\n",
       "      <td>0.003064</td>\n",
       "      <td>8.822257</td>\n",
       "      <td>15.590463</td>\n",
       "    </tr>\n",
       "    <tr>\n",
       "      <th>max</th>\n",
       "      <td>75.000000</td>\n",
       "      <td>43724.000000</td>\n",
       "      <td>6500.691858</td>\n",
       "      <td>244477.000000</td>\n",
       "      <td>0.436202</td>\n",
       "      <td>0.333333</td>\n",
       "      <td>11.681350</td>\n",
       "      <td>18.757153</td>\n",
       "    </tr>\n",
       "  </tbody>\n",
       "</table>\n",
       "</div>"
      ],
      "text/plain": [
       "          num_tags      duration  days_published_channel  channel_videos  \\\n",
       "count  1859.000000   1859.000000             1859.000000     1859.000000   \n",
       "mean     16.434642   1124.550834             3214.200070     3563.700914   \n",
       "std      13.623786   1656.229609             1814.098620    14276.636270   \n",
       "min       0.000000      0.000000                9.119690        1.000000   \n",
       "25%       3.000000    362.000000             1773.930041      139.000000   \n",
       "50%      16.000000    751.000000             3152.131708      408.000000   \n",
       "75%      27.000000   1334.000000             4413.965728     1310.000000   \n",
       "max      75.000000  43724.000000             6500.691858   244477.000000   \n",
       "\n",
       "       likes_to_views  comments_to_views  log_hours_published_video  \\\n",
       "count     1859.000000        1859.000000                1859.000000   \n",
       "mean         0.037356           0.003041                   6.728960   \n",
       "std          0.034995           0.009492                   2.630686   \n",
       "min          0.000000           0.000000                  -2.101761   \n",
       "25%          0.016139           0.000727                   4.655396   \n",
       "50%          0.028725           0.001574                   7.209058   \n",
       "75%          0.047177           0.003064                   8.822257   \n",
       "max          0.436202           0.333333                  11.681350   \n",
       "\n",
       "       log_channel_subscribers  \n",
       "count              1859.000000  \n",
       "mean                 13.678700  \n",
       "std                   2.954320  \n",
       "min                   0.000000  \n",
       "25%                  12.676076  \n",
       "50%                  14.159100  \n",
       "75%                  15.590463  \n",
       "max                  18.757153  "
      ]
     },
     "execution_count": 27,
     "metadata": {},
     "output_type": "execute_result"
    }
   ],
   "source": [
    "X_train.describe()"
   ]
  },
  {
   "cell_type": "code",
   "execution_count": 28,
   "id": "16af4b64",
   "metadata": {},
   "outputs": [
    {
     "data": {
      "text/html": [
       "<div>\n",
       "<style scoped>\n",
       "    .dataframe tbody tr th:only-of-type {\n",
       "        vertical-align: middle;\n",
       "    }\n",
       "\n",
       "    .dataframe tbody tr th {\n",
       "        vertical-align: top;\n",
       "    }\n",
       "\n",
       "    .dataframe thead th {\n",
       "        text-align: right;\n",
       "    }\n",
       "</style>\n",
       "<table border=\"1\" class=\"dataframe\">\n",
       "  <thead>\n",
       "    <tr style=\"text-align: right;\">\n",
       "      <th></th>\n",
       "      <th>num_tags</th>\n",
       "      <th>duration</th>\n",
       "      <th>days_published_channel</th>\n",
       "      <th>channel_videos</th>\n",
       "      <th>likes_to_views</th>\n",
       "      <th>comments_to_views</th>\n",
       "      <th>log_hours_published_video</th>\n",
       "      <th>log_channel_subscribers</th>\n",
       "    </tr>\n",
       "  </thead>\n",
       "  <tbody>\n",
       "    <tr>\n",
       "      <th>count</th>\n",
       "      <td>465.000000</td>\n",
       "      <td>465.000000</td>\n",
       "      <td>465.000000</td>\n",
       "      <td>465.000000</td>\n",
       "      <td>465.000000</td>\n",
       "      <td>465.000000</td>\n",
       "      <td>465.000000</td>\n",
       "      <td>465.000000</td>\n",
       "    </tr>\n",
       "    <tr>\n",
       "      <th>mean</th>\n",
       "      <td>16.387097</td>\n",
       "      <td>1065.552688</td>\n",
       "      <td>3215.399440</td>\n",
       "      <td>3360.232258</td>\n",
       "      <td>0.037764</td>\n",
       "      <td>0.003402</td>\n",
       "      <td>6.607569</td>\n",
       "      <td>13.537325</td>\n",
       "    </tr>\n",
       "    <tr>\n",
       "      <th>std</th>\n",
       "      <td>13.882226</td>\n",
       "      <td>1484.180115</td>\n",
       "      <td>1803.079530</td>\n",
       "      <td>12234.889520</td>\n",
       "      <td>0.030277</td>\n",
       "      <td>0.006709</td>\n",
       "      <td>2.839235</td>\n",
       "      <td>3.116439</td>\n",
       "    </tr>\n",
       "    <tr>\n",
       "      <th>min</th>\n",
       "      <td>0.000000</td>\n",
       "      <td>3.000000</td>\n",
       "      <td>17.146368</td>\n",
       "      <td>1.000000</td>\n",
       "      <td>0.000821</td>\n",
       "      <td>0.000000</td>\n",
       "      <td>-1.171122</td>\n",
       "      <td>2.639057</td>\n",
       "    </tr>\n",
       "    <tr>\n",
       "      <th>25%</th>\n",
       "      <td>2.000000</td>\n",
       "      <td>393.000000</td>\n",
       "      <td>1746.199856</td>\n",
       "      <td>135.000000</td>\n",
       "      <td>0.017236</td>\n",
       "      <td>0.000800</td>\n",
       "      <td>4.150368</td>\n",
       "      <td>12.621488</td>\n",
       "    </tr>\n",
       "    <tr>\n",
       "      <th>50%</th>\n",
       "      <td>15.000000</td>\n",
       "      <td>712.000000</td>\n",
       "      <td>3152.131708</td>\n",
       "      <td>383.000000</td>\n",
       "      <td>0.030841</td>\n",
       "      <td>0.001756</td>\n",
       "      <td>7.298942</td>\n",
       "      <td>14.200773</td>\n",
       "    </tr>\n",
       "    <tr>\n",
       "      <th>75%</th>\n",
       "      <td>26.000000</td>\n",
       "      <td>1238.000000</td>\n",
       "      <td>4378.035257</td>\n",
       "      <td>1365.000000</td>\n",
       "      <td>0.047955</td>\n",
       "      <td>0.003630</td>\n",
       "      <td>8.961368</td>\n",
       "      <td>15.571643</td>\n",
       "    </tr>\n",
       "    <tr>\n",
       "      <th>max</th>\n",
       "      <td>67.000000</td>\n",
       "      <td>22052.000000</td>\n",
       "      <td>6403.041627</td>\n",
       "      <td>162859.000000</td>\n",
       "      <td>0.213642</td>\n",
       "      <td>0.101386</td>\n",
       "      <td>11.572499</td>\n",
       "      <td>18.757153</td>\n",
       "    </tr>\n",
       "  </tbody>\n",
       "</table>\n",
       "</div>"
      ],
      "text/plain": [
       "         num_tags      duration  days_published_channel  channel_videos  \\\n",
       "count  465.000000    465.000000              465.000000      465.000000   \n",
       "mean    16.387097   1065.552688             3215.399440     3360.232258   \n",
       "std     13.882226   1484.180115             1803.079530    12234.889520   \n",
       "min      0.000000      3.000000               17.146368        1.000000   \n",
       "25%      2.000000    393.000000             1746.199856      135.000000   \n",
       "50%     15.000000    712.000000             3152.131708      383.000000   \n",
       "75%     26.000000   1238.000000             4378.035257     1365.000000   \n",
       "max     67.000000  22052.000000             6403.041627   162859.000000   \n",
       "\n",
       "       likes_to_views  comments_to_views  log_hours_published_video  \\\n",
       "count      465.000000         465.000000                 465.000000   \n",
       "mean         0.037764           0.003402                   6.607569   \n",
       "std          0.030277           0.006709                   2.839235   \n",
       "min          0.000821           0.000000                  -1.171122   \n",
       "25%          0.017236           0.000800                   4.150368   \n",
       "50%          0.030841           0.001756                   7.298942   \n",
       "75%          0.047955           0.003630                   8.961368   \n",
       "max          0.213642           0.101386                  11.572499   \n",
       "\n",
       "       log_channel_subscribers  \n",
       "count               465.000000  \n",
       "mean                 13.537325  \n",
       "std                   3.116439  \n",
       "min                   2.639057  \n",
       "25%                  12.621488  \n",
       "50%                  14.200773  \n",
       "75%                  15.571643  \n",
       "max                  18.757153  "
      ]
     },
     "execution_count": 28,
     "metadata": {},
     "output_type": "execute_result"
    }
   ],
   "source": [
    "X_test.describe()"
   ]
  },
  {
   "cell_type": "code",
   "execution_count": 29,
   "id": "affefa34-1b36-4c70-b237-e09a67e5dbc2",
   "metadata": {},
   "outputs": [],
   "source": [
    "def preprocess_data(IMAGE_PATH):\n",
    "    \"\"\" Generate lists of images and video ids\n",
    "    Params:\n",
    "    -------\n",
    "    IMAGE_PATH (str): path to directory with images.\n",
    "    \n",
    "    Returns:\n",
    "    --------\n",
    "    images  (np.ndarray): Images of shape (N, 120, 90, 3)\n",
    "    \"\"\"\n",
    "    images = []\n",
    "    video_ids = []\n",
    "\n",
    "    # create lists of images `images_mini` \n",
    "    for idx, img in enumerate(os.listdir(IMAGE_PATH)):\n",
    "        # read video ID from path\n",
    "        video_id = img.split('/')[0]\n",
    "        video_id = video_id.split('.')[0]\n",
    "        \n",
    "        # read image\n",
    "        img = load_img(\n",
    "            IMAGE_PATH + img\n",
    "        )\n",
    "        img = img.resize((320,180))\n",
    "        # transform image to array\n",
    "        img = img_to_array(img)\n",
    "\n",
    "        #pre process\n",
    "        img = img / 255\n",
    "        \n",
    "        # append to images\n",
    "        images.append(img)\n",
    "        \n",
    "        video_ids.append(video_id)\n",
    "\n",
    "    # stack images and trasnform to array\n",
    "    images = np.stack(images)\n",
    "    \n",
    "    return images, video_ids"
   ]
  },
  {
   "cell_type": "code",
   "execution_count": 30,
   "id": "91cb47eb-3019-4d19-bf75-9c244c35cf84",
   "metadata": {},
   "outputs": [],
   "source": [
    "images = preprocess_data(IMAGE_PATH)"
   ]
  },
  {
   "cell_type": "code",
   "execution_count": 31,
   "id": "02398f03-1152-4b32-a3bd-a539bc00c678",
   "metadata": {},
   "outputs": [
    {
     "data": {
      "text/plain": [
       "(2324, 180, 320, 3)"
      ]
     },
     "execution_count": 31,
     "metadata": {},
     "output_type": "execute_result"
    }
   ],
   "source": [
    "images[0].shape"
   ]
  },
  {
   "cell_type": "code",
   "execution_count": 32,
   "id": "de7d05c7-d4f8-464e-8b48-a9133abae358",
   "metadata": {},
   "outputs": [
    {
     "name": "stdout",
     "output_type": "stream",
     "text": [
      "Train tuple: 1859\n",
      "Test tuple: 465\n"
     ]
    }
   ],
   "source": [
    "train_tuple = ([], []) # tuple for train set\n",
    "test_tuple = ([], []) # tuple for test set\n",
    "\n",
    "for i in range(len(images[1])):\n",
    "    if images[1][i] in X_train['video_id'].to_list():\n",
    "        train_tuple[0].append(images[0][i])\n",
    "        train_tuple[1].append(images[1][i])\n",
    "    else:\n",
    "        test_tuple[0].append(images[0][i])\n",
    "        test_tuple[1].append(images[1][i])\n",
    "\n",
    "print(\"Train tuple:\", len(train_tuple[0]))\n",
    "print(\"Test tuple:\", len(test_tuple[0]))"
   ]
  },
  {
   "cell_type": "code",
   "execution_count": 33,
   "id": "7809a415-01ef-4a2c-9270-e971e6d95a36",
   "metadata": {},
   "outputs": [],
   "source": [
    "X_train = np.array(train_tuple[0])\n",
    "X_test = np.array(test_tuple[0])\n"
   ]
  },
  {
   "cell_type": "code",
   "execution_count": 34,
   "id": "5541e15e-ca6b-44f1-bfb2-e5090d4ea3cf",
   "metadata": {},
   "outputs": [],
   "source": [
    "encoder = LabelEncoder()\n",
    "encoder.fit(pd.concat([y_train['views_category_10'], y_test['views_category_10']]))\n",
    "\n",
    "Y_train_cat = encoder.transform(y_train['views_category_10'])\n",
    "Y_test_cat = encoder.transform(y_test['views_category_10'])"
   ]
  },
  {
   "cell_type": "code",
   "execution_count": 35,
   "id": "2a17a56a-2f27-4555-aa06-be559c0c7e27",
   "metadata": {},
   "outputs": [],
   "source": [
    "def build_model(n_classes,\n",
    "                hidden_layer_sizes=[],\n",
    "                activation='relu',\n",
    "                optimizer='SGD',\n",
    "                learning_rate=0.01):\n",
    "  \"\"\"Build a multi-class logistic regression model using Keras.\n",
    "\n",
    "  Args:\n",
    "    n_classes: Number of output classes in the dataset.\n",
    "    hidden_layer_sizes: A list with the number of units in each hidden layer.\n",
    "    activation: The activation function to use for the hidden layers.\n",
    "    optimizer: The optimizer to use (SGD, Adam).\n",
    "    learning_rate: The desired learning rate for the optimizer.\n",
    "\n",
    "  Returns:\n",
    "    model: A tf.keras model (graph).\n",
    "  \"\"\"\n",
    "  tf.keras.backend.clear_session()\n",
    "  np.random.seed(0)\n",
    "  tf.random.set_seed(0)\n",
    "\n",
    "  \n",
    "  model = tf.keras.Sequential()\n",
    "  model.add(keras.layers.Flatten())\n",
    "  i=0\n",
    "  for hidden_layer_size in hidden_layer_sizes:\n",
    "    i = i+1\n",
    "    model.add(tf.keras.layers.Dense(units=hidden_layer_size,\n",
    "                                    activation=activation,\n",
    "                                    name=\"Hidden\"+str(i)))\n",
    "  model.add(tf.keras.layers.Dense(units=n_classes, activation='softmax', name='Output'))\n",
    "  \n",
    "  if optimizer == 'SGD':\n",
    "    optimizer = tf.keras.optimizers.SGD(learning_rate=learning_rate)\n",
    "  elif optimizer == 'Adam':\n",
    "    optimizer = tf.keras.optimizers.Adam(learning_rate=learning_rate)\n",
    "  else:\n",
    "    print(\"error: invalid optimizer\")\n",
    "\n",
    "  model.compile(loss='sparse_categorical_crossentropy',\n",
    "                optimizer=optimizer,\n",
    "                metrics=['accuracy'])\n",
    "\n",
    "  return model"
   ]
  },
  {
   "cell_type": "code",
   "execution_count": 36,
   "id": "39f76c15-5969-4add-9796-3f8a896e1159",
   "metadata": {},
   "outputs": [
    {
     "name": "stdout",
     "output_type": "stream",
     "text": [
      "Training...\n",
      "Model: \"sequential\"\n",
      "_________________________________________________________________\n",
      " Layer (type)                Output Shape              Param #   \n",
      "=================================================================\n",
      " flatten (Flatten)           (None, 172800)            0         \n",
      "                                                                 \n",
      " Hidden1 (Dense)             (None, 256)               44237056  \n",
      "                                                                 \n",
      " Hidden2 (Dense)             (None, 128)               32896     \n",
      "                                                                 \n",
      " Output (Dense)              (None, 10)                1290      \n",
      "                                                                 \n",
      "=================================================================\n",
      "Total params: 44,271,242\n",
      "Trainable params: 44,271,242\n",
      "Non-trainable params: 0\n",
      "_________________________________________________________________\n",
      "None\n"
     ]
    },
    {
     "data": {
      "image/png": "[encoded data removed]",
      "text/plain": [
       "<Figure size 432x288 with 1 Axes>"
      ]
     },
     "metadata": {
      "needs_background": "light"
     },
     "output_type": "display_data"
    },
    {
     "name": "stdout",
     "output_type": "stream",
     "text": [
      "15/15 [==============================] - 1s 30ms/step\n"
     ]
    }
   ],
   "source": [
    "hidden_layer_sizes=[256,128]\n",
    "activation='relu'\n",
    "optimizer='Adam'\n",
    "learning_rate=0.01\n",
    "num_epochs=5\n",
    "\n",
    "# Build the model.\n",
    "model = build_model(n_classes=10,\n",
    "                  hidden_layer_sizes=hidden_layer_sizes,\n",
    "                  activation=activation,\n",
    "                  optimizer=optimizer,\n",
    "                  learning_rate=learning_rate)\n",
    "\n",
    "# Train the model.\n",
    "print('Training...')\n",
    "history = model.fit(\n",
    "x=X_train,\n",
    "y=Y_train_cat,\n",
    "epochs=num_epochs,\n",
    "batch_size=64,\n",
    "validation_split=0.1,\n",
    "verbose=0)\n",
    "\n",
    "print(model.summary())\n",
    "\n",
    "# Retrieve the training metrics (after each train epoch) and the final test\n",
    "# accuracy.\n",
    "train_accuracy = history.history['accuracy']\n",
    "val_accuracy = history.history['val_accuracy']\n",
    "plt.plot(train_accuracy, label='train_accuracy')\n",
    "plt.plot(val_accuracy, label='validation accuracy')\n",
    "plt.xticks(range(num_epochs))\n",
    "plt.xlabel('Train epochs')\n",
    "plt.legend()\n",
    "plt.show()\n",
    "\n",
    "test_accuracy = model.evaluate(x=X_test, y=Y_test_cat, verbose=0,\n",
    "                             return_dict=True)['accuracy']\n",
    "predict_x=model.predict(X_test) \n",
    "classes_x=np.argmax(predict_x,axis=1)\n",
    "\n"
   ]
  },
  {
   "cell_type": "code",
   "execution_count": 37,
   "id": "2ccd1a68-c129-49b1-b968-09b0802a632f",
   "metadata": {
    "slideshow": {
     "slide_type": "slide"
    }
   },
   "outputs": [
    {
     "name": "stdout",
     "output_type": "stream",
     "text": [
      "Test Accuracy: %1.4f 0.06881720572710037\n"
     ]
    }
   ],
   "source": [
    "print('Test Accuracy: %1.4f', test_accuracy)"
   ]
  },
  {
   "cell_type": "code",
   "execution_count": 38,
   "id": "284c3477",
   "metadata": {},
   "outputs": [
    {
     "name": "stdout",
     "output_type": "stream",
     "text": [
      "15/15 [==============================] - 0s 30ms/step\n",
      "Classification Report:\n",
      "               precision    recall  f1-score   support\n",
      "\n",
      "           0       0.00      0.00      0.00        51\n",
      "           1       0.00      0.00      0.00        44\n",
      "           2       0.00      0.00      0.00        58\n",
      "           3       0.07      1.00      0.13        32\n",
      "           4       0.00      0.00      0.00        54\n",
      "           5       0.00      0.00      0.00        35\n",
      "           6       0.00      0.00      0.00        40\n",
      "           7       0.00      0.00      0.00        57\n",
      "           8       0.00      0.00      0.00        44\n",
      "           9       0.00      0.00      0.00        50\n",
      "\n",
      "    accuracy                           0.07       465\n",
      "   macro avg       0.01      0.10      0.01       465\n",
      "weighted avg       0.00      0.07      0.01       465\n",
      "\n",
      "Confusion Matrix:\n",
      "\n"
     ]
    },
    {
     "data": {
      "image/png": "[encoded data removed]",
      "text/plain": [
       "<Figure size 432x288 with 2 Axes>"
      ]
     },
     "metadata": {
      "needs_background": "light"
     },
     "output_type": "display_data"
    }
   ],
   "source": [
    "predict_x=model.predict(X_test) \n",
    "classes_x=np.argmax(predict_x,axis=1)\n",
    "\n",
    "\n",
    "cm = confusion_matrix(Y_test_cat, classes_x)\n",
    "cr = classification_report(Y_test_cat, classes_x)\n",
    "\n",
    "print(\"Classification Report:\\n\", cr)\n",
    "\n",
    "print(\"Confusion Matrix:\\n\")\n",
    "ax = sns.heatmap(cm, annot=True, cmap='Blues', fmt='g')\n",
    "ax.invert_yaxis()\n",
    "plt.xlabel('Predicted Labels')\n",
    "plt.ylabel('True Labels')\n",
    "plt.show()\n"
   ]
  },
  {
   "cell_type": "markdown",
   "id": "d0a7650a-0ae5-4f55-b4bc-ef51d1189c07",
   "metadata": {},
   "source": [
    "\n",
    "DATA | HIDDEN SIZES | ACTIVATION | OPTIMIZER | LEARNING RATE | EPOCHS | #PARAMETERS | TEST ACCURACY\n",
    "-|-|-|-|-|-|-|-\n",
    "thumbnails|[256,128]|tanh|SGD|0.005|10|44,271,242| 0.1097\n",
    "thumbnails|[256,128]|tanh|SGD|0.02|10|44,271,242| 0.0882\n",
    "thumbnails|[512,256,128]|tanh|SGD|0.01|10|88,639,626| 0.1097\n",
    "thumbnails|[256,256,256,128]|tanh|SGD|0.01|10|44,402,826| 0.1097\n",
    "thumbnails|[256,128]|tanh|SGD|0.01|10| 44,271,242| 0.0968\n",
    "thumbnails|[256,128]|tanh|SGD|0.01|5|44,271,242|0.107\n",
    "thumbnails|[256,128]|relu|Adam|0.01|5|44,271,242| 0.1269\n"
   ]
  },
  {
   "cell_type": "code",
   "execution_count": 39,
   "id": "22ad7148",
   "metadata": {},
   "outputs": [],
   "source": [
    "IMAGE_SIZE = (320, 180)\n",
    "CONTRAST_FACTOR = 3\n",
    "DELTA = 0.3\n",
    "\n",
    "def preprocess_data_part2(X_train, y_train, X_test, y_test):\n",
    "    \"\"\" \n",
    "    \n",
    "    Params:\n",
    "    -------\n",
    "    images  (np.ndarray): Images of shape (N, 320, 180, 3)\n",
    "    y (np.ndarray): Labels of shape (N,)   \n",
    "    \n",
    "    Returns:\n",
    "    --------\n",
    "    X_train (np.ndarray): Train images of shape (N_train, 320, 180, 3)\n",
    "    y_train (np.ndarray): Train labels of shape (N_train,)\n",
    "    X_test (np.ndarray): Test images of shape (N_test, 320, 180, 3)\n",
    "    y_test (np.ndarray): Test labels of shape (N_test,)\n",
    "    \n",
    "    \"\"\"\n",
    "    \n",
    "    ### image transformation on training, validation, and test data ###\n",
    "    ###################################################################\n",
    "    # image resize\n",
    "    X_train = tf.image.resize(X_train, size=IMAGE_SIZE)\n",
    "    X_test = tf.image.resize(X_test, size=IMAGE_SIZE)\n",
    "    \n",
    "    ### image augmentation on training data ###\n",
    "    ###########################################\n",
    "    # adjust brightness\n",
    "    X_train_augm = tf.image.adjust_brightness(X_train, delta=DELTA)\n",
    "    \n",
    "    # adjust contrast\n",
    "    X_train_augm = tf.image.adjust_contrast(X_train_augm, contrast_factor=CONTRAST_FACTOR)\n",
    "\n",
    "    # random flip\n",
    "    X_train_augm = tf.image.random_flip_left_right(X_train_augm)\n",
    "    \n",
    "    # concatenate original X_train and augmented X_train data\n",
    "    X_train = tf.concat([X_train, X_train_augm],axis=0)\n",
    "    \n",
    "    # concatenate y_train (note the label is preserved)\n",
    "    y_train_augm = y_train\n",
    "    y_train = tf.concat([y_train, y_train_augm],axis=0)\n",
    "    \n",
    "    \n",
    "    return X_train, y_train, X_test, y_test"
   ]
  },
  {
   "cell_type": "code",
   "execution_count": 40,
   "id": "cd6f1f85",
   "metadata": {},
   "outputs": [
    {
     "name": "stdout",
     "output_type": "stream",
     "text": [
      "X_train shape (1859, 180, 320, 3)\n",
      "Y_train shape (1859,)\n",
      "X_test shape (465, 180, 320, 3)\n",
      "y_test shape (465,)\n"
     ]
    }
   ],
   "source": [
    "\n",
    "print(f\"X_train shape {X_train.shape}\")\n",
    "print(f\"Y_train shape {Y_train_cat.shape}\")\n",
    "print(f\"X_test shape {X_test.shape}\")\n",
    "print(f\"y_test shape {Y_test_cat.shape}\")"
   ]
  },
  {
   "cell_type": "code",
   "execution_count": 41,
   "id": "55a58e8f",
   "metadata": {},
   "outputs": [],
   "source": [
    "X_train_aug, Y_train_cat_aug, X_test_aug, Y_test_cat_aug = preprocess_data_part2(X_train, Y_train_cat, X_test, Y_test_cat)"
   ]
  },
  {
   "cell_type": "code",
   "execution_count": 42,
   "id": "0032cfae",
   "metadata": {},
   "outputs": [
    {
     "name": "stdout",
     "output_type": "stream",
     "text": [
      "X_train shape (3718, 320, 180, 3)\n",
      "Y_train shape (3718,)\n",
      "X_test shape (465, 320, 180, 3)\n",
      "y_test shape (465,)\n"
     ]
    }
   ],
   "source": [
    "\n",
    "print(f\"X_train shape {X_train_aug.shape}\")\n",
    "print(f\"Y_train shape {Y_train_cat_aug.shape}\")\n",
    "print(f\"X_test shape {X_test_aug.shape}\")\n",
    "print(f\"y_test shape {Y_test_cat_aug.shape}\")"
   ]
  },
  {
   "cell_type": "markdown",
   "id": "bc8f05b1",
   "metadata": {},
   "source": [
    "<u>The architecture of our CNN model is as follows</u>:\n",
    "\n",
    "1. the model receives input images of size 320 x 180 x 3 (the images have three color channels)\n",
    "2. the input data goes through two convolutional layers that have kernels of size 5 x 5\n",
    "3. the first convolution has 32 output feature maps, and the second one has 64\n",
    "4. each convolution layer is followed by a max-pooling layer (this will reduce the size of the feature maps)\n",
    "5. the last two layers of the model are fully connected with a droput layer in between\n",
    "\n",
    "For each convolution we use strides=(1,1) to preserve the dimension of the inputs in the resulting feature maps. For the pooling layers, we set strides=(2,2) to subsample the image and shrink the size of the output feature maps. For the dropout layer, we set the probability of dropping input units during training to 0.5.\n",
    "\n",
    "\n",
    "We will implement this architecture using TensorFlow Keras API."
   ]
  },
  {
   "cell_type": "code",
   "execution_count": 59,
   "id": "ea3cae5b",
   "metadata": {},
   "outputs": [
    {
     "name": "stdout",
     "output_type": "stream",
     "text": [
      "Model: \"sequential_3\"\n",
      "_________________________________________________________________\n",
      " Layer (type)                Output Shape              Param #   \n",
      "=================================================================\n",
      " conv_1 (Conv2D)             (None, 320, 180, 16)      448       \n",
      "                                                                 \n",
      " pool_1 (MaxPooling2D)       (None, 106, 60, 16)       0         \n",
      "                                                                 \n",
      " conv_2 (Conv2D)             (None, 106, 60, 32)       4640      \n",
      "                                                                 \n",
      " pool_2 (MaxPooling2D)       (None, 35, 20, 32)        0         \n",
      "                                                                 \n",
      " flatten_3 (Flatten)         (None, 22400)             0         \n",
      "                                                                 \n",
      " fc_1 (Dense)                (None, 1024)              22938624  \n",
      "                                                                 \n",
      " dropout_2 (Dropout)         (None, 1024)              0         \n",
      "                                                                 \n",
      " Output (Dense)              (None, 10)                10250     \n",
      "                                                                 \n",
      "=================================================================\n",
      "Total params: 22,953,962\n",
      "Trainable params: 22,953,962\n",
      "Non-trainable params: 0\n",
      "_________________________________________________________________\n"
     ]
    }
   ],
   "source": [
    "model = tf.keras.Sequential()\n",
    "\n",
    "# add first convolution layer to the model\n",
    "model.add(tf.keras.layers.Conv2D(\n",
    "    filters=16,\n",
    "    kernel_size=(3, 3),\n",
    "    strides=(1, 1),\n",
    "    padding='same',\n",
    "    data_format='channels_last',\n",
    "    name='conv_1',\n",
    "    activation='relu'))\n",
    "\n",
    "\n",
    "# add a max pooling layer with pool size (2,2) and strides of 2\n",
    "# (this will reduce the spatial dimensions by half)\n",
    "model.add(tf.keras.layers.MaxPool2D(\n",
    "    pool_size=(3, 3),\n",
    "    name='pool_1'))\n",
    "\n",
    "\n",
    "# add second convolutional layer\n",
    "model.add(tf.keras.layers.Conv2D(\n",
    "    filters=32,\n",
    "    kernel_size=(3, 3),\n",
    "    strides=(1, 1),\n",
    "    padding='same',\n",
    "    name='conv_2',\n",
    "    activation='relu'))\n",
    "\n",
    "# add second max pooling layer with pool size (2,2) and strides of 2\n",
    "# (this will further reduce the spatial dimensions by half)\n",
    "model.add(tf.keras.layers.MaxPool2D(\n",
    "    pool_size=(3, 3), name='pool_2')\n",
    ")\n",
    "\n",
    "\n",
    "# add a fully connected layer (need to flatten the output of the previous layers first)\n",
    "model.add(tf.keras.layers.Flatten()) \n",
    "model.add(tf.keras.layers.Dense(\n",
    "    units=1024,\n",
    "    name='fc_1', \n",
    "    activation='relu'))\n",
    "\n",
    "# add dropout layer\n",
    "model.add(tf.keras.layers.Dropout(\n",
    "    rate=0.5))\n",
    "\n",
    "# add the last fully connected layer\n",
    "model.add(tf.keras.layers.Dense(\n",
    "    units=10,\n",
    "    activation='softmax',\n",
    "    name='Output'))\n",
    "\n",
    "\n",
    "# build model and print summary\n",
    "tf.random.set_seed(1)\n",
    "model.build(input_shape=(None, 320, 180, 3))\n",
    "model.summary()\n"
   ]
  },
  {
   "cell_type": "code",
   "execution_count": 60,
   "id": "147a816a",
   "metadata": {},
   "outputs": [],
   "source": [
    "model.compile(optimizer=tf.keras.optimizers.SGD(),\n",
    "              loss='sparse_categorical_crossentropy', \n",
    "              metrics=['accuracy']) "
   ]
  },
  {
   "cell_type": "code",
   "execution_count": 61,
   "id": "3e7b444f",
   "metadata": {},
   "outputs": [
    {
     "name": "stdout",
     "output_type": "stream",
     "text": [
      "Epoch 1/10\n",
      "117/117 [==============================] - 57s 479ms/step - loss: 2.3327 - accuracy: 0.1103 - val_loss: 2.3022 - val_accuracy: 0.1097\n",
      "Epoch 2/10\n",
      "117/117 [==============================] - 50s 430ms/step - loss: 2.2805 - accuracy: 0.1409 - val_loss: 2.3059 - val_accuracy: 0.1054\n",
      "Epoch 3/10\n",
      "117/117 [==============================] - 46s 391ms/step - loss: 2.2547 - accuracy: 0.1678 - val_loss: 2.3105 - val_accuracy: 0.0860\n",
      "Epoch 4/10\n",
      "117/117 [==============================] - 47s 403ms/step - loss: 2.2178 - accuracy: 0.1963 - val_loss: 2.3148 - val_accuracy: 0.1032\n",
      "Epoch 5/10\n",
      "117/117 [==============================] - 47s 401ms/step - loss: 2.1675 - accuracy: 0.2335 - val_loss: 2.3287 - val_accuracy: 0.0774\n",
      "Epoch 6/10\n",
      "117/117 [==============================] - 52s 441ms/step - loss: 2.1025 - accuracy: 0.2703 - val_loss: 2.3464 - val_accuracy: 0.0624\n",
      "Epoch 7/10\n",
      "117/117 [==============================] - 44s 377ms/step - loss: 2.0147 - accuracy: 0.3209 - val_loss: 2.3913 - val_accuracy: 0.0796\n",
      "Epoch 8/10\n",
      "117/117 [==============================] - 44s 378ms/step - loss: 1.8889 - accuracy: 0.3690 - val_loss: 2.4304 - val_accuracy: 0.0903\n",
      "Epoch 9/10\n",
      "117/117 [==============================] - 45s 383ms/step - loss: 1.7593 - accuracy: 0.4344 - val_loss: 2.4026 - val_accuracy: 0.0989\n",
      "Epoch 10/10\n",
      "117/117 [==============================] - 45s 381ms/step - loss: 1.5858 - accuracy: 0.5129 - val_loss: 2.4581 - val_accuracy: 0.1204\n"
     ]
    }
   ],
   "source": [
    "# set random seed to get reproductible results \n",
    "# neural network algorithms are stochastic (e.g., due to random weight initialization); setting a random seed helps to get more stable results after each run\n",
    "# however, best way to deal with randomness is to repeat your experiment many times (30+) and use statistics to summarize the performance of the model\n",
    "tf.random.set_seed(1234)\n",
    "np.random.seed(1234)\n",
    "history = model.fit(X_train_aug, Y_train_cat_aug,\n",
    "                    epochs=10, \n",
    "                    validation_data=(X_test_aug, Y_test_cat_aug)\n",
    ")"
   ]
  },
  {
   "cell_type": "code",
   "execution_count": 46,
   "id": "7cdbbb57",
   "metadata": {},
   "outputs": [
    {
     "name": "stdout",
     "output_type": "stream",
     "text": [
      "15/15 [==============================] - 2s 95ms/step\n"
     ]
    }
   ],
   "source": [
    "predict_x=model.predict(X_test_aug) \n",
    "classes_x=np.argmax(predict_x,axis=1)"
   ]
  },
  {
   "cell_type": "code",
   "execution_count": 47,
   "id": "37625f65",
   "metadata": {},
   "outputs": [
    {
     "name": "stdout",
     "output_type": "stream",
     "text": [
      "[[  2  30]\n",
      " [  6   1]\n",
      " [  7 434]]\n"
     ]
    }
   ],
   "source": [
    "unique, counts = np.unique(classes_x, return_counts=True)\n",
    "print(np.asarray((unique, counts)).T)"
   ]
  },
  {
   "cell_type": "code",
   "execution_count": 48,
   "id": "52af0ae4",
   "metadata": {},
   "outputs": [
    {
     "name": "stdout",
     "output_type": "stream",
     "text": [
      "Classification Report:\n",
      "               precision    recall  f1-score   support\n",
      "\n",
      "           0       0.00      0.00      0.00        51\n",
      "           1       0.00      0.00      0.00        44\n",
      "           2       0.13      0.07      0.09        58\n",
      "           3       0.00      0.00      0.00        32\n",
      "           4       0.00      0.00      0.00        54\n",
      "           5       0.00      0.00      0.00        35\n",
      "           6       0.00      0.00      0.00        40\n",
      "           7       0.12      0.95      0.22        57\n",
      "           8       0.00      0.00      0.00        44\n",
      "           9       0.00      0.00      0.00        50\n",
      "\n",
      "    accuracy                           0.12       465\n",
      "   macro avg       0.03      0.10      0.03       465\n",
      "weighted avg       0.03      0.12      0.04       465\n",
      "\n",
      "Confusion Matrix:\n",
      "\n"
     ]
    },
    {
     "data": {
      "image/png": "[encoded data removed]",
      "text/plain": [
       "<Figure size 432x288 with 2 Axes>"
      ]
     },
     "metadata": {
      "needs_background": "light"
     },
     "output_type": "display_data"
    }
   ],
   "source": [
    "\n",
    "cm = confusion_matrix(Y_test_cat_aug, classes_x)\n",
    "cr = classification_report(Y_test_cat_aug, classes_x)\n",
    "\n",
    "print(\"Classification Report:\\n\", cr)\n",
    "\n",
    "print(\"Confusion Matrix:\\n\")\n",
    "ax = sns.heatmap(cm, annot=True, cmap='Blues', fmt='g')\n",
    "ax.invert_yaxis()\n",
    "plt.xlabel('Predicted Labels')\n",
    "plt.ylabel('True Labels')\n",
    "plt.show()\n"
   ]
  },
  {
   "cell_type": "code",
   "execution_count": 49,
   "id": "f1670822",
   "metadata": {},
   "outputs": [
    {
     "data": {
      "image/png": "[encoded data removed]",
      "text/plain": [
       "<Figure size 432x288 with 1 Axes>"
      ]
     },
     "metadata": {
      "needs_background": "light"
     },
     "output_type": "display_data"
    }
   ],
   "source": [
    "train_accuracy = history.history['accuracy']\n",
    "val_accuracy = history.history['val_accuracy']\n",
    "plt.plot(train_accuracy, label='train_accuracy')\n",
    "plt.plot(val_accuracy, label='validation accuracy')\n",
    "plt.xticks(range(num_epochs))\n",
    "plt.xlabel('Train epochs')\n",
    "plt.legend()\n",
    "plt.show()"
   ]
  },
  {
   "cell_type": "markdown",
   "id": "9d2c4b2d",
   "metadata": {},
   "source": [
    "*Written answer*:\n",
    "\n",
    "| Training accuracy | Validation accuracy |  kernel size |  strides | pool size  |  learning rate | optimizer  | brightness (delta) |  contrast factor | flip_on_train  |\n",
    "|:-:                |:-:                  |:-:           |:-:       |:-:         |:-:             |:-:         |:-:                 |:-:               |:-:             |\n",
    "| 0.9618              | 0.0968                | 5,5          | 1,1      | 3,3        | 0.001          | Adam       | 0.3                | 3                | yes            |\n",
    "| 0.9680              | 0.1097                 | <font color=\"red\">3,3</font>     | 1,1      | 3,3        | 0.001          | Adam       | 0.3                | 3                | yes            |\n",
    "| 0.8886               | 0.0882                 | 3,3          | <font color=\"red\">2,2</font>  | 3,3        | 0.001          | Adam       | 0.3                | 3                | yes            |\n",
    "| 0.9648               | 0.0946                 | 3,3          | 1,1      | 3,3   | 0.001          | Adam       | <font color=\"red\">0.1</font>                | 3                | yes            |\n",
    "| 0.9683               | 0.0839                 | 3,3          | 1,1      | 2,2        | 0.001       | Adam       | 0.3                | <font color=\"red\">2</font>                | yes            |\n",
    "| 0.6119               | 0.1054                 | 3,3          | 1,1      | 2,2        | 0.001          |<font color=\"red\">SGD</font>     | 0.3                | 3                | yes            |\n"
   ]
  },
  {
   "cell_type": "code",
   "execution_count": 62,
   "id": "5337d074",
   "metadata": {},
   "outputs": [],
   "source": [
    "vgg16_label_df = pd.read_csv('../data/vgg16.csv',index_col=0)\n"
   ]
  },
  {
   "cell_type": "code",
   "execution_count": 63,
   "id": "729f9d2f",
   "metadata": {},
   "outputs": [
    {
     "data": {
      "text/html": [
       "<div>\n",
       "<style scoped>\n",
       "    .dataframe tbody tr th:only-of-type {\n",
       "        vertical-align: middle;\n",
       "    }\n",
       "\n",
       "    .dataframe tbody tr th {\n",
       "        vertical-align: top;\n",
       "    }\n",
       "\n",
       "    .dataframe thead th {\n",
       "        text-align: right;\n",
       "    }\n",
       "</style>\n",
       "<table border=\"1\" class=\"dataframe\">\n",
       "  <thead>\n",
       "    <tr style=\"text-align: right;\">\n",
       "      <th></th>\n",
       "      <th>video_id</th>\n",
       "      <th>label_1</th>\n",
       "      <th>label_2</th>\n",
       "      <th>label_3</th>\n",
       "    </tr>\n",
       "  </thead>\n",
       "  <tbody>\n",
       "    <tr>\n",
       "      <th>0</th>\n",
       "      <td>rpe5kB2eGvo</td>\n",
       "      <td>sarong</td>\n",
       "      <td>book_jacket</td>\n",
       "      <td>hoopskirt</td>\n",
       "    </tr>\n",
       "    <tr>\n",
       "      <th>1</th>\n",
       "      <td>MvuqM_9h6QY</td>\n",
       "      <td>Band_Aid</td>\n",
       "      <td>packet</td>\n",
       "      <td>comic_book</td>\n",
       "    </tr>\n",
       "    <tr>\n",
       "      <th>2</th>\n",
       "      <td>ZcGlf7EZ-vU</td>\n",
       "      <td>comic_book</td>\n",
       "      <td>book_jacket</td>\n",
       "      <td>panpipe</td>\n",
       "    </tr>\n",
       "    <tr>\n",
       "      <th>3</th>\n",
       "      <td>hDk1ne5TCHM</td>\n",
       "      <td>scoreboard</td>\n",
       "      <td>digital_clock</td>\n",
       "      <td>hand-held_computer</td>\n",
       "    </tr>\n",
       "    <tr>\n",
       "      <th>4</th>\n",
       "      <td>-X0eQXFbTQo</td>\n",
       "      <td>book_jacket</td>\n",
       "      <td>comic_book</td>\n",
       "      <td>Band_Aid</td>\n",
       "    </tr>\n",
       "    <tr>\n",
       "      <th>...</th>\n",
       "      <td>...</td>\n",
       "      <td>...</td>\n",
       "      <td>...</td>\n",
       "      <td>...</td>\n",
       "    </tr>\n",
       "    <tr>\n",
       "      <th>2319</th>\n",
       "      <td>A7cWtICGgHE</td>\n",
       "      <td>comic_book</td>\n",
       "      <td>book_jacket</td>\n",
       "      <td>jersey</td>\n",
       "    </tr>\n",
       "    <tr>\n",
       "      <th>2320</th>\n",
       "      <td>d-HPZL6AU64</td>\n",
       "      <td>panpipe</td>\n",
       "      <td>maillot</td>\n",
       "      <td>comic_book</td>\n",
       "    </tr>\n",
       "    <tr>\n",
       "      <th>2321</th>\n",
       "      <td>UfwXf7AisAs</td>\n",
       "      <td>book_jacket</td>\n",
       "      <td>guillotine</td>\n",
       "      <td>fire_screen</td>\n",
       "    </tr>\n",
       "    <tr>\n",
       "      <th>2322</th>\n",
       "      <td>LqmmjHEyiHM</td>\n",
       "      <td>suit</td>\n",
       "      <td>trench_coat</td>\n",
       "      <td>Windsor_tie</td>\n",
       "    </tr>\n",
       "    <tr>\n",
       "      <th>2323</th>\n",
       "      <td>Gtxw1HRwTbQ</td>\n",
       "      <td>tobacco_shop</td>\n",
       "      <td>scoreboard</td>\n",
       "      <td>container_ship</td>\n",
       "    </tr>\n",
       "  </tbody>\n",
       "</table>\n",
       "<p>2324 rows × 4 columns</p>\n",
       "</div>"
      ],
      "text/plain": [
       "         video_id       label_1        label_2             label_3\n",
       "0     rpe5kB2eGvo        sarong    book_jacket           hoopskirt\n",
       "1     MvuqM_9h6QY      Band_Aid         packet          comic_book\n",
       "2     ZcGlf7EZ-vU    comic_book    book_jacket             panpipe\n",
       "3     hDk1ne5TCHM    scoreboard  digital_clock  hand-held_computer\n",
       "4     -X0eQXFbTQo   book_jacket     comic_book            Band_Aid\n",
       "...           ...           ...            ...                 ...\n",
       "2319  A7cWtICGgHE    comic_book    book_jacket              jersey\n",
       "2320  d-HPZL6AU64       panpipe        maillot          comic_book\n",
       "2321  UfwXf7AisAs   book_jacket     guillotine         fire_screen\n",
       "2322  LqmmjHEyiHM          suit    trench_coat         Windsor_tie\n",
       "2323  Gtxw1HRwTbQ  tobacco_shop     scoreboard      container_ship\n",
       "\n",
       "[2324 rows x 4 columns]"
      ]
     },
     "execution_count": 63,
     "metadata": {},
     "output_type": "execute_result"
    }
   ],
   "source": [
    "vgg16_label_df"
   ]
  }
 ],
 "metadata": {
  "kernelspec": {
   "display_name": "Python 3",
   "language": "python",
   "name": "python3"
  },
  "language_info": {
   "codemirror_mode": {
    "name": "ipython",
    "version": 3
   },
   "file_extension": ".py",
   "mimetype": "text/x-python",
   "name": "python",
   "nbconvert_exporter": "python",
   "pygments_lexer": "ipython3",
   "version": "3.8.8"
  },
  "vscode": {
   "interpreter": {
    "hash": "c4f6a24194c21ef49ca8751a1660e4b9adfcf917651b692dc64a8cd26b72dbbb"
   }
  }
 },
 "nbformat": 4,
 "nbformat_minor": 5
}
