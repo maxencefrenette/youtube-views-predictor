{
 "cells": [
  {
   "cell_type": "markdown",
   "id": "35e24794-0857-411c-9d0c-d0f6195b18a7",
   "metadata": {},
   "source": [
    "# Models\n",
    "\n",
    "\n",
    "### Import libraries"
   ]
  },
  {
   "cell_type": "code",
   "execution_count": 1,
   "id": "9200dca6-00c7-4b1c-92a9-740e33012467",
   "metadata": {},
   "outputs": [],
   "source": [
    "import numpy as np\n",
    "import pandas as pd\n",
    "import matplotlib.pyplot as plt\n",
    "import os\n",
    "import sys\n",
    "sys.path.append('../data')\n",
    "from process_data import process_data\n",
    "import warnings\n",
    "warnings.filterwarnings('ignore')\n",
    "import seaborn as sns\n",
    "from sklearn.linear_model import LogisticRegression\n",
    "from sklearn.ensemble import GradientBoostingClassifier\n",
    "from sklearn.metrics import confusion_matrix, classification_report\n",
    "from sklearn.ensemble import RandomForestClassifier\n",
    "import random\n"
   ]
  },
  {
   "cell_type": "code",
   "execution_count": 110,
   "id": "890a325a-71d7-4445-b083-d46bc345c571",
   "metadata": {},
   "outputs": [],
   "source": [
    "#pull in train and test datasets\n",
    "X_train, y_train,X_test,y_test = process_data(buckets = 10)"
   ]
  },
  {
   "cell_type": "code",
   "execution_count": 120,
   "id": "f7172022",
   "metadata": {},
   "outputs": [],
   "source": [
    "nsfw_scores = pd.read_csv('../data/nsfw_scores.csv')\n",
    "nsfw_scores.drop(columns = ['Unnamed: 0'], inplace = True)\n"
   ]
  },
  {
   "cell_type": "code",
   "execution_count": 126,
   "id": "56e53a7b",
   "metadata": {},
   "outputs": [
    {
     "data": {
      "text/plain": [
       "array([[<AxesSubplot:title={'center':'nsfw_scores'}>]], dtype=object)"
      ]
     },
     "execution_count": 126,
     "metadata": {},
     "output_type": "execute_result"
    },
    {
     "data": {
      "image/png": "[encoded data removed]",
      "text/plain": [
       "<Figure size 432x288 with 1 Axes>"
      ]
     },
     "metadata": {
      "needs_background": "light"
     },
     "output_type": "display_data"
    }
   ],
   "source": [
    "nsfw_scores.hist()"
   ]
  },
  {
   "cell_type": "code",
   "execution_count": 112,
   "id": "81a682df",
   "metadata": {},
   "outputs": [],
   "source": [
    "X_train = nsfw_scores[nsfw_scores['video_ids'].isin(X_train.video_id)]\n",
    "X_test = nsfw_scores[nsfw_scores['video_ids'].isin(X_test.video_id)]"
   ]
  },
  {
   "cell_type": "code",
   "execution_count": 113,
   "id": "ee3faddd",
   "metadata": {},
   "outputs": [
    {
     "data": {
      "text/html": [
       "<div>\n",
       "<style scoped>\n",
       "    .dataframe tbody tr th:only-of-type {\n",
       "        vertical-align: middle;\n",
       "    }\n",
       "\n",
       "    .dataframe tbody tr th {\n",
       "        vertical-align: top;\n",
       "    }\n",
       "\n",
       "    .dataframe thead th {\n",
       "        text-align: right;\n",
       "    }\n",
       "</style>\n",
       "<table border=\"1\" class=\"dataframe\">\n",
       "  <thead>\n",
       "    <tr style=\"text-align: right;\">\n",
       "      <th></th>\n",
       "      <th>nsfw_scores</th>\n",
       "    </tr>\n",
       "  </thead>\n",
       "  <tbody>\n",
       "    <tr>\n",
       "      <th>count</th>\n",
       "      <td>1859.000000</td>\n",
       "    </tr>\n",
       "    <tr>\n",
       "      <th>mean</th>\n",
       "      <td>0.046335</td>\n",
       "    </tr>\n",
       "    <tr>\n",
       "      <th>std</th>\n",
       "      <td>0.116467</td>\n",
       "    </tr>\n",
       "    <tr>\n",
       "      <th>min</th>\n",
       "      <td>0.000000</td>\n",
       "    </tr>\n",
       "    <tr>\n",
       "      <th>25%</th>\n",
       "      <td>0.001900</td>\n",
       "    </tr>\n",
       "    <tr>\n",
       "      <th>50%</th>\n",
       "      <td>0.007600</td>\n",
       "    </tr>\n",
       "    <tr>\n",
       "      <th>75%</th>\n",
       "      <td>0.028900</td>\n",
       "    </tr>\n",
       "    <tr>\n",
       "      <th>max</th>\n",
       "      <td>0.950400</td>\n",
       "    </tr>\n",
       "  </tbody>\n",
       "</table>\n",
       "</div>"
      ],
      "text/plain": [
       "       nsfw_scores\n",
       "count  1859.000000\n",
       "mean      0.046335\n",
       "std       0.116467\n",
       "min       0.000000\n",
       "25%       0.001900\n",
       "50%       0.007600\n",
       "75%       0.028900\n",
       "max       0.950400"
      ]
     },
     "execution_count": 113,
     "metadata": {},
     "output_type": "execute_result"
    }
   ],
   "source": [
    "X_train.describe()"
   ]
  },
  {
   "cell_type": "code",
   "execution_count": 114,
   "id": "9b3bf181",
   "metadata": {},
   "outputs": [
    {
     "data": {
      "text/html": [
       "<div>\n",
       "<style scoped>\n",
       "    .dataframe tbody tr th:only-of-type {\n",
       "        vertical-align: middle;\n",
       "    }\n",
       "\n",
       "    .dataframe tbody tr th {\n",
       "        vertical-align: top;\n",
       "    }\n",
       "\n",
       "    .dataframe thead th {\n",
       "        text-align: right;\n",
       "    }\n",
       "</style>\n",
       "<table border=\"1\" class=\"dataframe\">\n",
       "  <thead>\n",
       "    <tr style=\"text-align: right;\">\n",
       "      <th></th>\n",
       "      <th>nsfw_scores</th>\n",
       "    </tr>\n",
       "  </thead>\n",
       "  <tbody>\n",
       "    <tr>\n",
       "      <th>count</th>\n",
       "      <td>465.000000</td>\n",
       "    </tr>\n",
       "    <tr>\n",
       "      <th>mean</th>\n",
       "      <td>0.043764</td>\n",
       "    </tr>\n",
       "    <tr>\n",
       "      <th>std</th>\n",
       "      <td>0.108760</td>\n",
       "    </tr>\n",
       "    <tr>\n",
       "      <th>min</th>\n",
       "      <td>0.000000</td>\n",
       "    </tr>\n",
       "    <tr>\n",
       "      <th>25%</th>\n",
       "      <td>0.002400</td>\n",
       "    </tr>\n",
       "    <tr>\n",
       "      <th>50%</th>\n",
       "      <td>0.008000</td>\n",
       "    </tr>\n",
       "    <tr>\n",
       "      <th>75%</th>\n",
       "      <td>0.031300</td>\n",
       "    </tr>\n",
       "    <tr>\n",
       "      <th>max</th>\n",
       "      <td>0.838200</td>\n",
       "    </tr>\n",
       "  </tbody>\n",
       "</table>\n",
       "</div>"
      ],
      "text/plain": [
       "       nsfw_scores\n",
       "count   465.000000\n",
       "mean      0.043764\n",
       "std       0.108760\n",
       "min       0.000000\n",
       "25%       0.002400\n",
       "50%       0.008000\n",
       "75%       0.031300\n",
       "max       0.838200"
      ]
     },
     "execution_count": 114,
     "metadata": {},
     "output_type": "execute_result"
    }
   ],
   "source": [
    "X_test.describe()"
   ]
  },
  {
   "cell_type": "markdown",
   "id": "b9530a28-9284-4c7e-98e6-5ff9a85d12ee",
   "metadata": {},
   "source": [
    "### Model: Logistic Regression"
   ]
  },
  {
   "cell_type": "code",
   "execution_count": 115,
   "id": "b50e48bf-63ac-4188-a99d-c23ef92f6ab3",
   "metadata": {},
   "outputs": [],
   "source": [
    "X_train = X_train.drop(columns=X_train.select_dtypes(include=['object','datetime64[ns, UTC]']).columns)\n",
    "X_test = X_test.drop(columns=X_test.select_dtypes(include=['object','datetime64[ns, UTC]']).columns)"
   ]
  },
  {
   "cell_type": "code",
   "execution_count": 116,
   "id": "77b97776-a445-4eb8-ab0d-3eae857031b6",
   "metadata": {},
   "outputs": [
    {
     "data": {
      "text/plain": [
       "2316    60\n",
       "406     30\n",
       "645     70\n",
       "1206    90\n",
       "592     70\n",
       "        ..\n",
       "1095    10\n",
       "1462    30\n",
       "2197    30\n",
       "1039     0\n",
       "1147    30\n",
       "Name: views_category_10, Length: 1859, dtype: category\n",
       "Categories (10, int64): [0 < 10 < 20 < 30 ... 60 < 70 < 80 < 90]"
      ]
     },
     "execution_count": 116,
     "metadata": {},
     "output_type": "execute_result"
    }
   ],
   "source": [
    "y_train['views_category_10']"
   ]
  },
  {
   "cell_type": "code",
   "execution_count": 105,
   "id": "270f6434-118f-4a48-bf25-6b8d9d84da4e",
   "metadata": {},
   "outputs": [
    {
     "name": "stdout",
     "output_type": "stream",
     "text": [
      "Classification Report:\n",
      "               precision    recall  f1-score   support\n",
      "\n",
      "           0       0.00      0.00      0.00        51\n",
      "          10       0.00      0.00      0.00        44\n",
      "          20       0.00      0.00      0.00        58\n",
      "          30       0.07      0.97      0.13        32\n",
      "          40       0.14      0.02      0.03        54\n",
      "          50       0.10      0.06      0.07        35\n",
      "          60       0.00      0.00      0.00        40\n",
      "          70       0.00      0.00      0.00        57\n",
      "          80       0.00      0.00      0.00        44\n",
      "          90       0.00      0.00      0.00        50\n",
      "\n",
      "    accuracy                           0.07       465\n",
      "   macro avg       0.03      0.10      0.02       465\n",
      "weighted avg       0.03      0.07      0.02       465\n",
      "\n",
      "Confusion Matrix:\n",
      "\n"
     ]
    },
    {
     "data": {
      "image/png": "[encoded data removed]",
      "text/plain": [
       "<Figure size 432x288 with 2 Axes>"
      ]
     },
     "metadata": {
      "needs_background": "light"
     },
     "output_type": "display_data"
    }
   ],
   "source": [
    "# Instantiate the model with default hyperparameters\n",
    "logreg = LogisticRegression(multi_class='multinomial', solver='lbfgs')\n",
    "\n",
    "# Train the model on the training data\n",
    "logreg.fit(X_train, y_train['views_category_10'])\n",
    "\n",
    "# Make predictions on the test data\n",
    "y_pred = logreg.predict(X_test)\n",
    "\n",
    "\n",
    "cm = confusion_matrix(y_test, y_pred)\n",
    "cr = classification_report(y_test, y_pred)\n",
    "\n",
    "print(\"Classification Report:\\n\", cr)\n",
    "\n",
    "print(\"Confusion Matrix:\\n\")\n",
    "ax = sns.heatmap(cm, annot=True, cmap='Blues', fmt='g')\n",
    "ax.invert_yaxis()\n",
    "plt.xlabel('Predicted Labels')\n",
    "plt.ylabel('True Labels')\n",
    "plt.show()\n",
    "\n"
   ]
  },
  {
   "cell_type": "markdown",
   "id": "c7623602-a883-4308-b1e6-103258165c0d",
   "metadata": {},
   "source": [
    "### Model: Gradient Boosted Decision Trees\n"
   ]
  },
  {
   "cell_type": "code",
   "execution_count": 117,
   "id": "5994e02f-e2aa-47b5-b6e7-ee84950095ec",
   "metadata": {},
   "outputs": [
    {
     "name": "stdout",
     "output_type": "stream",
     "text": [
      "Classification Report:\n",
      "               precision    recall  f1-score   support\n",
      "\n",
      "           0       0.09      0.12      0.10        51\n",
      "          10       0.13      0.11      0.12        44\n",
      "          20       0.15      0.07      0.09        58\n",
      "          30       0.08      0.16      0.11        32\n",
      "          40       0.09      0.09      0.09        54\n",
      "          50       0.13      0.14      0.14        35\n",
      "          60       0.09      0.15      0.11        40\n",
      "          70       0.14      0.09      0.11        57\n",
      "          80       0.18      0.20      0.19        44\n",
      "          90       0.14      0.08      0.10        50\n",
      "\n",
      "    accuracy                           0.12       465\n",
      "   macro avg       0.12      0.12      0.12       465\n",
      "weighted avg       0.12      0.12      0.11       465\n",
      "\n",
      "Confusion Matrix:\n",
      "\n"
     ]
    },
    {
     "data": {
      "image/png": "[encoded data removed]",
      "text/plain": [
       "<Figure size 432x288 with 2 Axes>"
      ]
     },
     "metadata": {
      "needs_background": "light"
     },
     "output_type": "display_data"
    }
   ],
   "source": [
    "\n",
    "\n",
    "# Instantiate the model with default hyperparameters\n",
    "gbc = GradientBoostingClassifier()\n",
    "\n",
    "# Train the model on the training data\n",
    "gbc.fit(X_train, y_train['views_category_10'])\n",
    "\n",
    "# Make predictions on the test data\n",
    "y_pred = gbc.predict(X_test)\n",
    "\n",
    "cm = confusion_matrix(y_test, y_pred)\n",
    "cr = classification_report(y_test, y_pred)\n",
    "\n",
    "print(\"Classification Report:\\n\", cr)\n",
    "\n",
    "print(\"Confusion Matrix:\\n\")\n",
    "ax = sns.heatmap(cm, annot=True, cmap='Blues', fmt='g')\n",
    "ax.invert_yaxis()\n",
    "plt.xlabel('Predicted Labels')\n",
    "plt.ylabel('True Labels')\n",
    "plt.show()"
   ]
  },
  {
   "cell_type": "markdown",
   "id": "ba23c277-d7c9-4e6c-9fdf-e70a266ebb0b",
   "metadata": {},
   "source": [
    "### Model: Random Forest\n",
    "This model was optimized using TPOT, an AutoML library."
   ]
  },
  {
   "cell_type": "code",
   "execution_count": 118,
   "id": "d75c50a0-57af-483c-be7d-c434208b4233",
   "metadata": {},
   "outputs": [
    {
     "name": "stdout",
     "output_type": "stream",
     "text": [
      "Classification Report:\n",
      "               precision    recall  f1-score   support\n",
      "\n",
      "           0       0.09      0.10      0.10        51\n",
      "          10       0.12      0.11      0.11        44\n",
      "          20       0.15      0.10      0.12        58\n",
      "          30       0.08      0.12      0.10        32\n",
      "          40       0.07      0.06      0.06        54\n",
      "          50       0.08      0.11      0.10        35\n",
      "          60       0.03      0.05      0.03        40\n",
      "          70       0.15      0.12      0.13        57\n",
      "          80       0.03      0.02      0.02        44\n",
      "          90       0.22      0.12      0.16        50\n",
      "\n",
      "    accuracy                           0.09       465\n",
      "   macro avg       0.10      0.09      0.09       465\n",
      "weighted avg       0.11      0.09      0.10       465\n",
      "\n",
      "Confusion Matrix:\n",
      "\n"
     ]
    },
    {
     "data": {
      "image/png": "[encoded data removed]",
      "text/plain": [
       "<Figure size 432x288 with 2 Axes>"
      ]
     },
     "metadata": {
      "needs_background": "light"
     },
     "output_type": "display_data"
    }
   ],
   "source": [
    "\n",
    "# Instantiate the model with default hyperparameters\n",
    "rfc = RandomForestClassifier()\n",
    "\n",
    "# Train the model on the training data\n",
    "rfc.fit(X_train, y_train['views_category_10'])\n",
    "\n",
    "# Make predictions on the test data\n",
    "y_pred = rfc.predict(X_test)\n",
    "\n",
    "cm = confusion_matrix(y_test, y_pred)\n",
    "cr = classification_report(y_test, y_pred)\n",
    "\n",
    "print(\"Classification Report:\\n\", cr)\n",
    "\n",
    "print(\"Confusion Matrix:\\n\")\n",
    "ax = sns.heatmap(cm, annot=True, cmap='Blues', fmt='g')\n",
    "ax.invert_yaxis()\n",
    "plt.xlabel('Predicted Labels')\n",
    "plt.ylabel('True Labels')\n",
    "plt.show()"
   ]
  }
 ],
 "metadata": {
  "kernelspec": {
   "display_name": "Python 3",
   "language": "python",
   "name": "python3"
  },
  "language_info": {
   "codemirror_mode": {
    "name": "ipython",
    "version": 3
   },
   "file_extension": ".py",
   "mimetype": "text/x-python",
   "name": "python",
   "nbconvert_exporter": "python",
   "pygments_lexer": "ipython3",
   "version": "3.8.8"
  }
 },
 "nbformat": 4,
 "nbformat_minor": 5
}
