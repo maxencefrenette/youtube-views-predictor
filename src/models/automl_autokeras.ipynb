{
 "cells": [
  {
   "cell_type": "code",
   "execution_count": null,
   "metadata": {},
   "outputs": [],
   "source": [
    "import pandas as pd\n",
    "import tensorflow as tf\n",
    "import autokeras as ak\n",
    "import sys\n",
    "\n",
    "# Relative imports\n",
    "sys.path.append('../data')\n",
    "from process_data import process_data"
   ]
  },
  {
   "cell_type": "code",
   "execution_count": null,
   "metadata": {},
   "outputs": [],
   "source": [
    "X_train, y_train, X_test, y_test = process_data(buckets=10)"
   ]
  },
  {
   "cell_type": "code",
   "execution_count": 32,
   "metadata": {},
   "outputs": [
    {
     "name": "stdout",
     "output_type": "stream",
     "text": [
      "Trial 48 Complete [00h 00m 10s]\n",
      "val_accuracy: 0.27863776683807373\n",
      "\n",
      "Best val_accuracy So Far: 0.3560371398925781\n",
      "Total elapsed time: 00h 08m 12s\n",
      "INFO:tensorflow:Oracle triggered exit\n"
     ]
    },
    {
     "name": "stderr",
     "output_type": "stream",
     "text": [
      "INFO:tensorflow:Oracle triggered exit\n"
     ]
    },
    {
     "name": "stdout",
     "output_type": "stream",
     "text": [
      "Epoch 1/20\n",
      "59/59 [==============================] - 2s 9ms/step - loss: 2.3003 - accuracy: 0.1269\n",
      "Epoch 2/20\n",
      "59/59 [==============================] - 1s 9ms/step - loss: 2.2375 - accuracy: 0.1302\n",
      "Epoch 3/20\n",
      "59/59 [==============================] - 1s 9ms/step - loss: 2.1806 - accuracy: 0.1813\n",
      "Epoch 4/20\n",
      "59/59 [==============================] - 1s 9ms/step - loss: 2.1673 - accuracy: 0.1840\n",
      "Epoch 5/20\n",
      "59/59 [==============================] - 1s 9ms/step - loss: 2.1199 - accuracy: 0.1888\n",
      "Epoch 6/20\n",
      "59/59 [==============================] - 1s 9ms/step - loss: 2.0826 - accuracy: 0.2039\n",
      "Epoch 7/20\n",
      "59/59 [==============================] - 1s 9ms/step - loss: 2.0508 - accuracy: 0.2119\n",
      "Epoch 8/20\n",
      "59/59 [==============================] - 0s 8ms/step - loss: 2.0054 - accuracy: 0.2372\n",
      "Epoch 9/20\n",
      "59/59 [==============================] - 1s 9ms/step - loss: 2.0141 - accuracy: 0.2329\n",
      "Epoch 10/20\n",
      "59/59 [==============================] - 1s 9ms/step - loss: 1.9553 - accuracy: 0.2399\n",
      "Epoch 11/20\n",
      "59/59 [==============================] - 1s 9ms/step - loss: 1.9299 - accuracy: 0.2474\n",
      "Epoch 12/20\n",
      "59/59 [==============================] - 0s 8ms/step - loss: 1.9297 - accuracy: 0.2464\n",
      "Epoch 13/20\n",
      "59/59 [==============================] - 1s 9ms/step - loss: 1.9278 - accuracy: 0.2415\n",
      "Epoch 14/20\n",
      "59/59 [==============================] - 1s 9ms/step - loss: 1.8862 - accuracy: 0.2474\n",
      "Epoch 15/20\n",
      "59/59 [==============================] - 1s 9ms/step - loss: 1.8893 - accuracy: 0.2523\n",
      "Epoch 16/20\n",
      "59/59 [==============================] - 1s 8ms/step - loss: 1.8387 - accuracy: 0.2652\n",
      "Epoch 17/20\n",
      "59/59 [==============================] - 1s 9ms/step - loss: 1.8771 - accuracy: 0.2604\n",
      "Epoch 18/20\n",
      "59/59 [==============================] - 1s 9ms/step - loss: 1.8288 - accuracy: 0.2738\n",
      "Epoch 19/20\n",
      "59/59 [==============================] - 1s 9ms/step - loss: 1.8215 - accuracy: 0.2706\n",
      "Epoch 20/20\n",
      "59/59 [==============================] - 1s 9ms/step - loss: 1.8127 - accuracy: 0.2786\n"
     ]
    },
    {
     "name": "stderr",
     "output_type": "stream",
     "text": [
      "WARNING:absl:Found untraced functions such as _update_step_xla while saving (showing 1 of 1). These functions will not be directly callable after loading.\n"
     ]
    },
    {
     "name": "stdout",
     "output_type": "stream",
     "text": [
      "INFO:tensorflow:Assets written to: .\\structured_data_classifier\\best_model\\assets\n"
     ]
    },
    {
     "name": "stderr",
     "output_type": "stream",
     "text": [
      "INFO:tensorflow:Assets written to: .\\structured_data_classifier\\best_model\\assets\n"
     ]
    },
    {
     "name": "stdout",
     "output_type": "stream",
     "text": [
      "15/15 [==============================] - 0s 2ms/step - loss: 1.9296 - accuracy: 0.1763\n",
      "[1.929613471031189, 0.17634408175945282]\n"
     ]
    }
   ],
   "source": [
    "# Find the best neural net\n",
    "clf = ak.StructuredDataClassifier(objective=\"val_accuracy\", max_trials=100)\n",
    "\n",
    "clf.fit(\n",
    "    x=X_train,\n",
    "    y=y_train,\n",
    "    epochs=20,\n",
    ")\n",
    "\n",
    "print(clf.evaluate(X_test, y_test))\n"
   ]
  },
  {
   "cell_type": "code",
   "execution_count": 34,
   "metadata": {},
   "outputs": [
    {
     "name": "stderr",
     "output_type": "stream",
     "text": [
      "WARNING:absl:Found untraced functions such as _update_step_xla while saving (showing 1 of 1). These functions will not be directly callable after loading.\n"
     ]
    },
    {
     "name": "stdout",
     "output_type": "stream",
     "text": [
      "INFO:tensorflow:Assets written to: autokeras_model\\assets\n"
     ]
    },
    {
     "name": "stderr",
     "output_type": "stream",
     "text": [
      "INFO:tensorflow:Assets written to: autokeras_model\\assets\n"
     ]
    },
    {
     "name": "stdout",
     "output_type": "stream",
     "text": [
      "Model: \"model\"\n",
      "_________________________________________________________________\n",
      " Layer (type)                Output Shape              Param #   \n",
      "=================================================================\n",
      " input_1 (InputLayer)        [(None, 19)]              0         \n",
      "                                                                 \n",
      " multi_category_encoding (Mu  (None, 19)               0         \n",
      " ltiCategoryEncoding)                                            \n",
      "                                                                 \n",
      " normalization (Normalizatio  (None, 19)               39        \n",
      " n)                                                              \n",
      "                                                                 \n",
      " dense (Dense)               (None, 1024)              20480     \n",
      "                                                                 \n",
      " re_lu (ReLU)                (None, 1024)              0         \n",
      "                                                                 \n",
      " dropout (Dropout)           (None, 1024)              0         \n",
      "                                                                 \n",
      " dense_1 (Dense)             (None, 512)               524800    \n",
      "                                                                 \n",
      " re_lu_1 (ReLU)              (None, 512)               0         \n",
      "                                                                 \n",
      " dropout_1 (Dropout)         (None, 512)               0         \n",
      "                                                                 \n",
      " dense_2 (Dense)             (None, 16)                8208      \n",
      "                                                                 \n",
      " re_lu_2 (ReLU)              (None, 16)                0         \n",
      "                                                                 \n",
      " dropout_2 (Dropout)         (None, 16)                0         \n",
      "                                                                 \n",
      " dropout_3 (Dropout)         (None, 16)                0         \n",
      "                                                                 \n",
      " dense_3 (Dense)             (None, 10)                170       \n",
      "                                                                 \n",
      " classification_head_1 (Soft  (None, 10)               0         \n",
      " max)                                                            \n",
      "                                                                 \n",
      "=================================================================\n",
      "Total params: 553,697\n",
      "Trainable params: 553,658\n",
      "Non-trainable params: 39\n",
      "_________________________________________________________________\n",
      "None\n"
     ]
    }
   ],
   "source": [
    "# Export Model\n",
    "model = clf.export_model()\n",
    "model.save('autokeras_model')\n",
    "print(model.summary())"
   ]
  }
 ],
 "metadata": {
  "kernelspec": {
   "display_name": "Python 3",
   "language": "python",
   "name": "python3"
  },
  "language_info": {
   "codemirror_mode": {
    "name": "ipython",
    "version": 3
   },
   "file_extension": ".py",
   "mimetype": "text/x-python",
   "name": "python",
   "nbconvert_exporter": "python",
   "pygments_lexer": "ipython3",
   "version": "3.11.2"
  },
  "orig_nbformat": 4
 },
 "nbformat": 4,
 "nbformat_minor": 2
}
