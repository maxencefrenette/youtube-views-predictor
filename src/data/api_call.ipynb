{
 "cells": [
  {
   "cell_type": "code",
   "execution_count": null,
   "id": "4f6f4052-c8c4-464c-93e6-eda627296315",
   "metadata": {},
   "outputs": [],
   "source": [
    "#notes \n",
    "# look at using k nearest neighbors or decision trees for youtube views predictors \n",
    "#https://console.cloud.google.com/apis/api/youtube.googleapis.com/overview?project=youtube-views-predictor-378405&supportedpurview=project"
   ]
  },
  {
   "cell_type": "code",
   "execution_count": 9,
   "id": "5def4698-eac9-4dd3-b070-d04cf5e4fe84",
   "metadata": {},
   "outputs": [
    {
     "name": "stdout",
     "output_type": "stream",
     "text": [
      "https://i.ytimg.com/vi/Zc2khqqm_aI/hqdefault.jpg\n",
      "https://i.ytimg.com/vi/awLQ_A33H9Y/hqdefault.jpg\n",
      "https://i.ytimg.com/vi/oLj9qS9EgB8/hqdefault.jpg\n",
      "https://i.ytimg.com/vi/pPPp9umYZFs/hqdefault.jpg\n",
      "https://i.ytimg.com/vi/JYI95jCLBPk/hqdefault.jpg\n",
      "https://i.ytimg.com/vi/x629nYBuLpY/hqdefault.jpg\n",
      "https://i.ytimg.com/vi/Y3t8ToLh52k/hqdefault.jpg\n",
      "https://i.ytimg.com/vi/qmQjyVc1Z34/hqdefault.jpg\n",
      "https://i.ytimg.com/vi/fVq7w22Af2Q/hqdefault.jpg\n",
      "https://i.ytimg.com/vi/QO7Ymd99RtY/hqdefault.jpg\n"
     ]
    }
   ],
   "source": [
    "from google.oauth2 import service_account\n",
    "from googleapiclient.discovery import build\n",
    "\n",
    "# Set your API credentials\n",
    "credentials = service_account.Credentials.from_service_account_file(\n",
    "    'credentials.json',\n",
    "    scopes=['https://www.googleapis.com/auth/youtube.readonly'])\n",
    "\n",
    "# Create a YouTube API client\n",
    "youtube = build('youtube', 'v3', credentials=credentials)\n",
    "\n",
    "# Make a request to the API to get a sample of 10 videos\n",
    "response = youtube.videos().list(\n",
    "    part='snippet',\n",
    "    chart='mostPopular',\n",
    "    maxResults=10\n",
    ").execute()\n",
    "\n",
    "response['items'][0]['snippet']['thumbnails']['default']['url']\n",
    "\n",
    "\n",
    "# Print the video high res thumbnail URL\n",
    "\n",
    "for item in response['items']:\n",
    "    print(item['snippet']['thumbnails']['high']['url'])"
   ]
  }
 ],
 "metadata": {
  "kernelspec": {
   "display_name": "Python 3 (ipykernel)",
   "language": "python",
   "name": "python3"
  },
  "language_info": {
   "codemirror_mode": {
    "name": "ipython",
    "version": 3
   },
   "file_extension": ".py",
   "mimetype": "text/x-python",
   "name": "python",
   "nbconvert_exporter": "python",
   "pygments_lexer": "ipython3",
   "version": "3.9.7"
  }
 },
 "nbformat": 4,
 "nbformat_minor": 5
}
